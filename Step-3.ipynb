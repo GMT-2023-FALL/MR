{
 "cells": [
  {
   "cell_type": "code",
   "execution_count": 4,
   "id": "8e251f05-f636-4d06-bac8-006b1bbdf823",
   "metadata": {},
   "outputs": [],
   "source": [
    "import numpy as np\n",
    "import trimesh\n",
    "from sklearn.decomposition import PCA\n",
    "import os"
   ]
  },
  {
   "cell_type": "markdown",
   "id": "e40f8e54-b8b4-457f-bd8c-1b0eaf1f15e6",
   "metadata": {},
   "source": [
    "# Step 3.1: Full Normalization"
   ]
  },
  {
   "cell_type": "code",
   "execution_count": 5,
   "id": "fba45827-086d-4387-bd54-0d3678e6e546",
   "metadata": {},
   "outputs": [],
   "source": [
    "def normalize_shape(shape: trimesh.Trimesh):\n",
    "    # Centering and Scaling (from Step 2)\n",
    "    shape.vertices -= shape.center_mass\n",
    "    shape.vertices /= np.linalg.norm(shape.bounding_box_oriented.extents)\n",
    "\n",
    "    # Alignment using PCA\n",
    "    pca = PCA(n_components=3)\n",
    "    pca.fit(shape.vertices)\n",
    "    aligned_vertices = pca.transform(shape.vertices)\n",
    "    shape.vertices = aligned_vertices\n",
    "\n",
    "    # Flipping using moment test\n",
    "    moments = np.mean(shape.vertices, axis=0)\n",
    "    for axis in range(3):\n",
    "        if moments[axis] < 0:\n",
    "            shape.vertices[:, axis] *= -1\n",
    "\n",
    "    return shape"
   ]
  },
  {
   "cell_type": "markdown",
   "id": "60f33ef3-9e00-4afb-9d74-397b29e793ea",
   "metadata": {},
   "source": [
    "# Step 3.2: Feature Extraction"
   ]
  },
  {
   "cell_type": "code",
   "execution_count": 6,
   "id": "cab0716c-bfbc-4863-9512-0e04161a9c2c",
   "metadata": {
    "jp-MarkdownHeadingCollapsed": true
   },
   "outputs": [],
   "source": [
    "def extract_features(shape: trimesh.Trimesh):\n",
    "    features = {}\n",
    "    \n",
    "    # Elementary Descriptors\n",
    "    features['surface_area'] = shape.area\n",
    "    features['volume'] = shape.volume\n",
    "    features['compactness'] = (shape.area ** 3) / (36 * np.pi * (shape.volume ** 2))\n",
    "    obb = shape.bounding_box_oriented\n",
    "    features['rectangularity'] = shape.volume / obb.volume\n",
    "    features['diameter'] = np.linalg.norm(shape.bounding_box_oriented.extents)\n",
    "    convex_hull = shape.convex_hull\n",
    "    features['convexity'] = shape.volume / convex_hull.volume\n",
    "    covariance_matrix = np.cov(shape.vertices, rowvar=False)\n",
    "    eigenvalues, _ = np.linalg.eig(covariance_matrix)\n",
    "    features['eccentricity'] = max(eigenvalues) / min(eigenvalues)\n",
    "\n",
    "    # Property Descriptors (using histograms)\n",
    "    def compute_histogram(values, bins=10):\n",
    "        hist, _ = np.histogram(values, bins=bins, density=True)\n",
    "        return hist\n",
    "    \n",
    "    random_vertices = shape.vertices[np.random.choice(shape.vertices.shape[0], 1000, replace=True)]\n",
    "    features['A3'] = compute_histogram([np.arccos(np.clip(np.dot(random_vertices[i], random_vertices[j]) / \\\n",
    "                                                   (np.linalg.norm(random_vertices[i]) * np.linalg.norm(random_vertices[j])), -1.0, 1.0))\n",
    "                                        for i in range(len(random_vertices)) for j in range(i+1, len(random_vertices))], bins=10)\n",
    "    \n",
    "    barycenter = shape.center_mass\n",
    "    features['D1'] = compute_histogram([np.linalg.norm(vertex - barycenter) for vertex in random_vertices], bins=10)\n",
    "    features['D2'] = compute_histogram([np.linalg.norm(random_vertices[i] - random_vertices[j])\n",
    "                                        for i in range(len(random_vertices)) for j in range(i+1, len(random_vertices))], bins=10)\n",
    "    features['D3'] = compute_histogram([np.sqrt(trimesh.triangles.area(random_vertices[[i, j, k]]))\n",
    "                                        for i in range(len(random_vertices)) for j in range(i+1, len(random_vertices))\n",
    "                                        for k in range(j+1, len(random_vertices))], bins=10)\n",
    "    features['D4'] = compute_histogram([np.cbrt(np.abs(np.dot(random_vertices[i], np.cross(random_vertices[j], random_vertices[k]))))\n",
    "                                        for i in range(len(random_vertices)) for j in range(i+1, len(random_vertices))\n",
    "                                        for k in range(j+1, len(random_vertices))], bins=10)\n",
    "    \n",
    "    return features"
   ]
  },
  {
   "cell_type": "code",
   "execution_count": null,
   "id": "acbf01ad-889d-4e15-9302-a37c0da21fc7",
   "metadata": {},
   "outputs": [],
   "source": [
    "# Example usage\n",
    "\n",
    "def load_and_extract_features_from_directory(directory_path):\n",
    "    for filename in os.listdir(directory_path):\n",
    "        if filename.endswith('.obj'):\n",
    "            shape_path = os.path.join(directory_path, filename)\n",
    "            try:\n",
    "                shape = trimesh.load(shape_path)\n",
    "                # Step 3.1: Normalize the shape\n",
    "                normalized_shape = normalize_shape(shape)\n",
    "                # Step 3.2: Extract features\n",
    "                features = extract_features(normalized_shape)\n",
    "                # Print extracted features\n",
    "                print(f\"Features for {filename}: {features}\")\n",
    "            except Exception as e:\n",
    "                print(f\"Error loading or processing shape {filename}: {e}\")\n",
    "\n",
    "# Specify the path to your directory containing shape files\n",
    "directory_path = \"path_to_your_directory\"\n",
    "load_and_extract_features_from_directory(directory_path)"
   ]
  },
  {
   "cell_type": "code",
   "execution_count": null,
   "id": "6827773f-3bc4-4d1e-8923-d28f8442adf4",
   "metadata": {},
   "outputs": [],
   "source": []
  }
 ],
 "metadata": {
  "kernelspec": {
   "display_name": "Python 3 (ipykernel)",
   "language": "python",
   "name": "python3"
  },
  "language_info": {
   "codemirror_mode": {
    "name": "ipython",
    "version": 3
   },
   "file_extension": ".py",
   "mimetype": "text/x-python",
   "name": "python",
   "nbconvert_exporter": "python",
   "pygments_lexer": "ipython3",
   "version": "3.8.19"
  }
 },
 "nbformat": 4,
 "nbformat_minor": 5
}
