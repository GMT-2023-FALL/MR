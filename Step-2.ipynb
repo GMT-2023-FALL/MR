{
 "cells": [
  {
   "cell_type": "markdown",
   "id": "eca2f1e3f8522952",
   "metadata": {
    "collapsed": false,
    "jupyter": {
     "outputs_hidden": false
    }
   },
   "source": [
    "# Step - 2"
   ]
  },
  {
   "cell_type": "markdown",
   "id": "e40c88ba59db48fb",
   "metadata": {
    "collapsed": false,
    "jupyter": {
     "outputs_hidden": false
    }
   },
   "source": [
    "## Preconditions"
   ]
  },
  {
   "cell_type": "markdown",
   "id": "206832b8a5d7a12d",
   "metadata": {},
   "source": [
    "### Install the required libraries\n",
    "```bash\n",
    "pip install -r requirements.txt\n",
    "```\n",
    "\n"
   ]
  },
  {
   "cell_type": "code",
   "execution_count": 9,
   "id": "7e3c4e1ddbc1aff0",
   "metadata": {
    "ExecuteTime": {
     "end_time": "2024-10-02T03:11:00.229015Z",
     "start_time": "2024-10-02T03:11:00.217017Z"
    },
    "collapsed": false,
    "jupyter": {
     "outputs_hidden": false
    }
   },
   "outputs": [],
   "source": [
    "# Importing the required libraries\n",
    "import trimesh\n",
    "import os\n",
    "import matplotlib.pyplot as plt\n",
    "import json\n",
    "import numpy as np\n",
    "from sklearn.decomposition import PCA\n",
    "import pandas as pd"
   ]
  },
  {
   "cell_type": "markdown",
   "id": "ce1b79c5a9f0a2eb",
   "metadata": {
    "collapsed": false,
    "jupyter": {
     "outputs_hidden": false
    }
   },
   "source": [
    "## Step 2.1: Analyzing a Single Shape"
   ]
  },
  {
   "cell_type": "code",
   "execution_count": 11,
   "id": "10ec98479dcff158",
   "metadata": {
    "ExecuteTime": {
     "end_time": "2024-10-02T00:38:25.093751Z",
     "start_time": "2024-10-02T00:38:25.088734Z"
    },
    "collapsed": false,
    "jupyter": {
     "outputs_hidden": false
    }
   },
   "outputs": [],
   "source": [
    "def analyze_shape(_file_path):\n",
    "    try:\n",
    "        mesh = trimesh.load(_file_path)\n",
    "        num_vertices = len(mesh.vertices)\n",
    "        num_faces = len(mesh.faces)\n",
    "        face_types = mesh.faces.shape[1]  # 3 for triangles, 4 for quads\n",
    "        bounding_box = mesh.bounding_box.extents\n",
    "        return num_vertices, num_faces, face_types, bounding_box\n",
    "    except Exception as e:\n",
    "        print(f\"Error processing {_file_path}: {e}\")\n",
    "        return None"
   ]
  },
  {
   "cell_type": "markdown",
   "id": "4e0eb4adb7262f7a",
   "metadata": {
    "collapsed": false,
    "jupyter": {
     "outputs_hidden": false
    }
   },
   "source": []
  },
  {
   "cell_type": "markdown",
   "id": "299334b8f4896be5",
   "metadata": {
    "collapsed": false,
    "jupyter": {
     "outputs_hidden": false
    }
   },
   "source": [
    "## Step 2.2: Statistics Over the Whole Database"
   ]
  },
  {
   "cell_type": "code",
   "execution_count": 13,
   "id": "5daf3c4733a634b7",
   "metadata": {
    "ExecuteTime": {
     "end_time": "2024-10-02T00:39:18.914107Z",
     "start_time": "2024-10-02T00:38:25.111271Z"
    },
    "collapsed": false,
    "jupyter": {
     "outputs_hidden": false
    }
   },
   "outputs": [],
   "source": [
    "# Getting the properties of all the shapes\n",
    "shape_data = []\n",
    "\n",
    "# Define the root folder where the search begins\n",
    "root_folder = './ShapeDatabase_INFOMR-master'\n",
    "\n",
    "# List to store all .obj file paths\n",
    "obj_file_paths = []\n",
    "\n",
    "# Walk through the folder structure\n",
    "for dirpath, dirnames, filenames in os.walk(root_folder):\n",
    "    for file in filenames:\n",
    "        if file.endswith('.obj'):\n",
    "            # Get the full file path and add it to the list\n",
    "            full_path = os.path.join(dirpath, file)\n",
    "            obj_file_paths.append(full_path)\n",
    "\n",
    "# Print all .obj file paths                                                                                  \n",
    "for path in obj_file_paths:\n",
    "    file_path = path.replace('\\\\', '/')\n",
    "    genre = file_path.split('/')[-2]\n",
    "    shape_name = file_path.split('/')[-1].split('.')[0]\n",
    "    shape_properties = analyze_shape(file_path)\n",
    "    shape_data.append({\n",
    "        'file_path': file_path,\n",
    "        'genre': genre,\n",
    "        'shape_name': shape_name,\n",
    "        'num_vertices': shape_properties[0],\n",
    "        'num_faces': shape_properties[1],\n",
    "        'face_types': shape_properties[2],\n",
    "        'bounding_box': shape_properties[3].tolist()\n",
    "    })"
   ]
  },
  {
   "cell_type": "code",
   "execution_count": 16,
   "id": "f95d344db5627d22",
   "metadata": {
    "ExecuteTime": {
     "end_time": "2024-10-02T00:39:18.961610Z",
     "start_time": "2024-10-02T00:39:18.947922Z"
    }
   },
   "outputs": [
    {
     "name": "stdout",
     "output_type": "stream",
     "text": [
      "Number of outliers: 95\n"
     ]
    }
   ],
   "source": [
    "# remove the outliers from the shape_data where num_vertices <= 100 or num_faces <= 100\n",
    "shape_data_filtered = [data for data in shape_data if data['num_vertices'] > 100 and data['num_faces'] > 100]\n",
    "print(f\"Number of outliers: {len(shape_data) - len(shape_data_filtered)}\")"
   ]
  },
  {
   "cell_type": "code",
   "execution_count": 18,
   "id": "7fa2b2214e1b023d",
   "metadata": {
    "ExecuteTime": {
     "end_time": "2024-10-02T00:39:19.115675Z",
     "start_time": "2024-10-02T00:39:18.983797Z"
    }
   },
   "outputs": [
    {
     "data": {
      "image/png": "[encoded data removed]",
      "text/plain": [
       "<Figure size 640x480 with 1 Axes>"
      ]
     },
     "metadata": {},
     "output_type": "display_data"
    }
   ],
   "source": [
    "# Data preparation\n",
    "vertices = [data['num_vertices'] for data in shape_data_filtered]\n",
    "faces = [data['num_faces'] for data in shape_data_filtered]\n",
    "\n",
    "# Histogram plot\n",
    "plt.hist(vertices, bins=20, alpha=0.5, label='Vertices')\n",
    "plt.hist(faces, bins=20, alpha=0.5, label='Faces')\n",
    "plt.legend(loc='upper right')                                                                                                                                                                                                                                                                                                            \n",
    "plt.show()"
   ]
  },
  {
   "cell_type": "code",
   "execution_count": 20,
   "id": "faac64b8ea706926",
   "metadata": {
    "ExecuteTime": {
     "end_time": "2024-10-02T00:39:19.379650Z",
     "start_time": "2024-10-02T00:39:19.148263Z"
    }
   },
   "outputs": [
    {
     "name": "stdout",
     "output_type": "stream",
     "text": [
      "69\n"
     ]
    },
    {
     "data": {
      "image/png": "[encoded data removed]",
      "text/plain": [
       "<Figure size 640x480 with 1 Axes>"
      ]
     },
     "metadata": {},
     "output_type": "display_data"
    }
   ],
   "source": [
    "# check the number of each genre in the dataset\n",
    "# then plot the bar chart\n",
    "# then x-axis is the genre and y-axis is the number of shapes in that genre\n",
    "from collections import Counter\n",
    "genre_count = Counter([data['genre'] for data in shape_data_filtered])\n",
    "print(len(genre_count))\n",
    "plt.bar(genre_count.keys(), genre_count.values())\n",
    "# and the x-axis should be tilted 45 degrees\n",
    "plt.xticks(rotation=90)\n",
    "# and the x-axies fonr size should be 5\n",
    "plt.xticks(fontsize=5)\n",
    "# make the figure size bigger\n",
    "plt.show()"
   ]
  },
  {
   "cell_type": "code",
   "execution_count": 22,
   "id": "aae9300aa04fee7d",
   "metadata": {
    "ExecuteTime": {
     "end_time": "2024-10-02T01:37:24.480658Z",
     "start_time": "2024-10-02T01:37:24.462639Z"
    }
   },
   "outputs": [
    {
     "name": "stdout",
     "output_type": "stream",
     "text": [
      "Median: 27.0, Average: 34.608695652173914\n"
     ]
    }
   ],
   "source": [
    "# find the median and avrage number of the genre_count\n",
    "import numpy as np\n",
    "median = np.median(list(genre_count.values()))\n",
    "average = np.mean(list(genre_count.values()))\n",
    "print(f\"Median: {median}, Average: {average}\")\n"
   ]
  },
  {
   "cell_type": "markdown",
   "id": "8d1137586acc55e8",
   "metadata": {},
   "source": [
    "## 2.3 Resampling Data"
   ]
  },
  {
   "cell_type": "code",
   "execution_count": null,
   "id": "bf581c4564a3d0d7",
   "metadata": {
    "ExecuteTime": {
     "end_time": "2024-10-02T02:43:03.412765Z",
     "start_time": "2024-10-02T02:43:03.392008Z"
    }
   },
   "outputs": [],
   "source": [
    "# Choose the average number of shapes per genre as the threshold\n",
    "# for those genres that have fewer shapes than the threshold, we will upsample them\n",
    "# for those genres that have more shapes than the threshold, we will downsample them\n",
    "import random\n",
    "threshold = int(average)\n",
    "print(f\"Threshold: {threshold}\")\n",
    "# UP_SAMPLING_LIMITATION = threshold - 5\n",
    "# DOWN_SAMPLING_LIMITATION = threshold + 5\n",
    "\n",
    "# Resampling the data\n",
    "resampled_data = []\n",
    "for genre, count in genre_count.items():\n",
    "    genre_data = [data for data in shape_data_filtered if data['genre'] == genre]\n",
    "    if count < threshold:\n",
    "        random.shuffle(genre_data)\n",
    "        # 当计数小于上采样限制时，进行上采样\n",
    "        resampled_data.extend(genre_data * (threshold // count))\n",
    "        resampled_data.extend(genre_data[:threshold % count])\n",
    "    elif count >= threshold:\n",
    "        # 当计数大于下采样限制时，进行下采样\n",
    "        # 随机选择一部分数据\n",
    "        random.shuffle(genre_data)\n",
    "        resampled_data.extend(genre_data[:threshold])\n",
    "    # else:\n",
    "    #     # 如果在限制范围内，直接使用现有数据\n",
    "    #     resampled_data.extend(genre_data)\n"
   ]
  },
  {
   "cell_type": "code",
   "execution_count": null,
   "id": "43f9bb6d074c0be2",
   "metadata": {
    "ExecuteTime": {
     "end_time": "2024-10-02T02:43:06.054815Z",
     "start_time": "2024-10-02T02:43:05.829303Z"
    }
   },
   "outputs": [],
   "source": [
    "resmapled_genre_count = Counter([data['genre'] for data in resampled_data])\n",
    "\n",
    "plt.bar(resmapled_genre_count.keys(), resmapled_genre_count.values())\n",
    "# and the x-axis should be tilted 45 degrees\n",
    "plt.xticks(rotation=90)\n",
    "# and the x-axies fonr size should be 5\n",
    "plt.xticks(fontsize=5)\n",
    "# make the figure size bigger\n",
    "plt.show()"
   ]
  },
  {
   "cell_type": "code",
   "execution_count": null,
   "id": "29024db9f63b7aec",
   "metadata": {
    "ExecuteTime": {
     "end_time": "2024-10-02T02:43:09.549253Z",
     "start_time": "2024-10-02T02:43:09.535007Z"
    }
   },
   "outputs": [],
   "source": [
    "resmapled_genre_count"
   ]
  },
  {
   "cell_type": "code",
   "execution_count": null,
   "id": "d5fe9aedddf6dc7f",
   "metadata": {
    "ExecuteTime": {
     "end_time": "2024-10-02T02:43:26.138574Z",
     "start_time": "2024-10-02T02:43:26.099293Z"
    }
   },
   "outputs": [],
   "source": [
    "# Save the shape data to a file\n",
    "# import json\n",
    "# with open('shape_data.json', 'w') as f:\n",
    "#     json.dump(resampled_data, f)"
   ]
  },
  {
   "cell_type": "code",
   "execution_count": null,
   "id": "e8cda9fc7540dcf9",
   "metadata": {
    "ExecuteTime": {
     "end_time": "2024-10-02T02:02:10.939530Z",
     "start_time": "2024-10-02T02:02:10.920140Z"
    }
   },
   "outputs": [],
   "source": [
    "# Load the shape data from the file\n",
    "# import json\n",
    "# with open('shape_data.json', 'r') as f:\n",
    "#     resampled_data = json.load(f)"
   ]
  },
  {
   "cell_type": "markdown",
   "id": "eb0ec5b7ba10bc82",
   "metadata": {},
   "source": [
    "## Step 2.4: Normalizing shapes"
   ]
  },
  {
   "cell_type": "code",
   "execution_count": null,
   "id": "82651031870b6f15",
   "metadata": {
    "ExecuteTime": {
     "end_time": "2024-10-02T02:54:39.951533Z",
     "start_time": "2024-10-02T02:54:39.936958Z"
    }
   },
   "outputs": [],
   "source": [
    "def normalize_shape(_mesh):\n",
    "    centroid = mesh.centroid\n",
    "    mesh.vertices -= centroid  # 平移到原点\n",
    "    max_extent = mesh.bounding_box.extents.max()  # 获取最大边长\n",
    "    if max_extent > 0:\n",
    "        mesh.vertices /= max_extent  # 统一缩放\n",
    "    return mesh"
   ]
  },
  {
   "cell_type": "code",
   "execution_count": null,
   "id": "48223a030b883cf6",
   "metadata": {
    "ExecuteTime": {
     "end_time": "2024-10-02T02:57:22.365249Z",
     "start_time": "2024-10-02T02:54:44.283034Z"
    }
   },
   "outputs": [],
   "source": [
    "# save all the normalized shapes to a folder\n",
    "\n",
    "# 1.create the genre folders\n",
    "genre_names = list(resmapled_genre_count.keys())\n",
    "for genre in genre_names:\n",
    "    os.makedirs(f'./normalized_database/{genre}', exist_ok=False)\n",
    "    \n",
    "# 2.save the normalized shapes to the genre folders\n",
    "for data in resampled_data:\n",
    "    mesh = trimesh.load(data['file_path'])\n",
    "    normalized_mesh = normalize_shape(mesh)\n",
    "    normalized_mesh.export(f\"./normalized_database/{data['genre']}/{data['shape_name']}.obj\")\n",
    "    \n",
    "# 3.save the shape data to a file\n",
    "# Getting the properties of all the shapes\n",
    "normalized_shape_data = []\n",
    "\n",
    "# Define the root folder where the search begins\n",
    "normalized_shape_folder = './normalized_database'\n",
    "\n",
    "# List to store all .obj file paths\n",
    "normalized_obj_file_paths = []\n",
    "\n",
    "# Walk through the folder structure\n",
    "for dirpath, dirnames, filenames in os.walk(normalized_shape_folder):\n",
    "    for file in filenames:\n",
    "        if file.endswith('.obj'):\n",
    "            # Get the full file path and add it to the list\n",
    "            full_path = os.path.join(dirpath, file)\n",
    "            normalized_obj_file_paths.append(full_path)\n",
    "\n",
    "# Print all .obj file paths                                                                                  \n",
    "for path in normalized_obj_file_paths:\n",
    "    file_path = path.replace('\\\\', '/')\n",
    "    genre = file_path.split('/')[-2]\n",
    "    shape_name = file_path.split('/')[-1].split('.')[0]\n",
    "    shape_properties = analyze_shape(file_path)\n",
    "    normalized_shape_data.append({\n",
    "        'file_path': file_path,\n",
    "        'genre': genre,\n",
    "        'shape_name': shape_name,\n",
    "        'num_vertices': shape_properties[0],\n",
    "        'num_faces': shape_properties[1],\n",
    "        'face_types': shape_properties[2],\n",
    "        'bounding_box': shape_properties[3].tolist(),\n",
    "        'centroid': trimesh.load(file_path).centroid.tolist(),\n",
    "    })\n",
    "\n",
    "with open('normalized_shape_data.json', 'w') as f:\n",
    "    json.dump(normalized_shape_data, f)\n"
   ]
  },
  {
   "cell_type": "code",
   "execution_count": null,
   "id": "fe1c5213589dbe1f",
   "metadata": {
    "ExecuteTime": {
     "end_time": "2024-10-02T02:58:34.417417Z",
     "start_time": "2024-10-02T02:58:03.263803Z"
    }
   },
   "outputs": [],
   "source": [
    "# check if the normalization works\n",
    "# condition 1: the centroid of the shape should be (0, 0, 0)\n",
    "# condition 2: the max extent of the shape should be 1\n",
    "import numpy as np\n",
    "\n",
    "# 定义容差值\n",
    "EPSILON = 0.5  # 根据需要调整\n",
    "\n",
    "# 假设 normalized_shape_data 是包含归一化后网格数据的列表\n",
    "for data in normalized_shape_data:\n",
    "    centroid = data['centroid']\n",
    "    file_path = data['file_path']\n",
    "    \n",
    "    # 条件 1: 检查重心是否接近 (0, 0, 0)\n",
    "    if not np.allclose(centroid, [0, 0, 0], atol=EPSILON):\n",
    "        print(f\"Error: {file_path} 的重心 {centroid} 不接近 (0, 0, 0)\")\n",
    "    \n",
    "    # 加载归一化后的网格\n",
    "    mesh = trimesh.load(file_path)\n",
    "    \n",
    "    # 条件 2: 检查最大边长是否接近 1\n",
    "    max_extent = mesh.bounding_box.extents.max()\n",
    "    if not np.isclose(max_extent, 1.0, atol=EPSILON):\n",
    "        print(f\"Error: {file_path} 的最大边长 {max_extent} 不接近 1\")"
   ]
  },
  {
   "cell_type": "code",
   "execution_count": 27,
   "id": "8d6385da-d510-4b8f-9b30-6e9ce91ea85c",
   "metadata": {},
   "outputs": [],
   "source": []
  },
  {
   "cell_type": "markdown",
   "id": "b2172d8e-f184-48a7-8b8a-08de2fa4656b",
   "metadata": {},
   "source": [
    "# Step 3.1: Full Normalization"
   ]
  },
  {
   "cell_type": "code",
   "execution_count": 35,
   "id": "8257735e-44ae-4abf-96e1-a7c01c799f52",
   "metadata": {},
   "outputs": [],
   "source": [
    "def normalize_shape(mesh):\n",
    "    # Centering (already implemented in Step 2)\n",
    "    mesh.vertices -= mesh.center_mass\n",
    "\n",
    "    # Scaling (already implemented in Step 2)\n",
    "    scale = np.cbrt(1.0 / mesh.volume)\n",
    "    mesh.vertices *= scale\n",
    "\n",
    "    # Alignment using PCA\n",
    "    pca = PCA(n_components=3)\n",
    "    pca.fit(mesh.vertices)\n",
    "    aligned_vertices = pca.transform(mesh.vertices)\n",
    "    mesh.vertices = aligned_vertices\n",
    "\n",
    "    # Flipping using Moment Test\n",
    "    for axis in range(3):\n",
    "        if np.sum(mesh.vertices[:, axis]) < 0:\n",
    "            mesh.vertices[:, axis] *= -1\n",
    "\n",
    "    return mesh"
   ]
  },
  {
   "cell_type": "markdown",
   "id": "28dd2fb2-9070-44c3-8c4d-e7b1b21a2396",
   "metadata": {},
   "source": [
    "# Step 3.2: Feature Extraction\n"
   ]
  },
  {
   "cell_type": "code",
   "execution_count": 36,
   "id": "a91a5e81-9e07-4c08-88b4-56e7c1866959",
   "metadata": {},
   "outputs": [],
   "source": [
    "def extract_features(mesh):\n",
    "    features = {}\n",
    "\n",
    "    # Elementary Descriptors\n",
    "    features['Surface Area'] = mesh.area\n",
    "    features['Compactness'] = (36 * np.pi * (mesh.volume ** 2)) / (mesh.area ** 3)  # Compactness with respect to a sphere\n",
    "    obb = mesh.bounding_box_oriented\n",
    "    features['3D Rectangularity'] = mesh.volume / obb.volume\n",
    "    features['Diameter'] = np.max(mesh.bounding_box.extents)\n",
    "    convex_hull = mesh.convex_hull\n",
    "    features['Convexity'] = mesh.volume / convex_hull.volume\n",
    "    covariance_matrix = np.cov(mesh.vertices, rowvar=False)\n",
    "    eigenvalues, _ = np.linalg.eigh(covariance_matrix)\n",
    "    features['Eccentricity'] = max(eigenvalues) / min(eigenvalues)\n",
    "\n",
    "    # Property Descriptors (using histograms)\n",
    "    num_samples = 1000\n",
    "    bins = 10  # Number of bins for the histogram\n",
    "\n",
    "    random_points = mesh.vertices[np.random.choice(mesh.vertices.shape[0], num_samples, replace=True)]\n",
    "\n",
    "    # A3: Angle between 3 random vertices\n",
    "    angles = []\n",
    "    for i in range(num_samples):\n",
    "        v1, v2, v3 = random_points[np.random.choice(num_samples, 3, replace=False)]\n",
    "        vec1 = v2 - v1\n",
    "        vec2 = v3 - v1\n",
    "        cos_theta = np.dot(vec1, vec2) / (np.linalg.norm(vec1) * np.linalg.norm(vec2))\n",
    "        angles.append(np.arccos(np.clip(cos_theta, -1.0, 1.0)))\n",
    "    features['A3'] = np.histogram(angles, bins=bins, range=(0, np.pi))[0]\n",
    "\n",
    "    # D1: Distance between barycenter and random vertex\n",
    "    barycenter = mesh.center_mass\n",
    "    distances = np.linalg.norm(random_points - barycenter, axis=1)\n",
    "    features['D1'] = np.histogram(distances, bins=bins)[0]\n",
    "\n",
    "    # D2: Distance between 2 random vertices\n",
    "    d2_distances = []\n",
    "    for i in range(num_samples // 2):\n",
    "        v1, v2 = random_points[np.random.choice(num_samples, 2, replace=False)]\n",
    "        d2_distances.append(np.linalg.norm(v1 - v2))\n",
    "    features['D2'] = np.histogram(d2_distances, bins=bins)[0]\n",
    "\n",
    "    # D3: Square root of area of triangle given by 3 random vertices\n",
    "    areas = []\n",
    "    for i in range(num_samples // 3):\n",
    "        v1, v2, v3 = random_points[np.random.choice(num_samples, 3, replace=False)]\n",
    "        area = np.linalg.norm(np.cross(v2 - v1, v3 - v1)) / 2\n",
    "        areas.append(np.sqrt(area))\n",
    "    features['D3'] = np.histogram(areas, bins=bins)[0]\n",
    "\n",
    "    # D4: Cube root of volume of tetrahedron formed by 4 random vertices\n",
    "    volumes = []\n",
    "    for i in range(num_samples // 4):\n",
    "        v1, v2, v3, v4 = random_points[np.random.choice(num_samples, 4, replace=False)]\n",
    "        volume = np.abs(np.dot(v4 - v1, np.cross(v2 - v1, v3 - v1))) / 6\n",
    "        volumes.append(np.cbrt(volume))\n",
    "    features['D4'] = np.histogram(volumes, bins=bins)[0]\n",
    "\n",
    "    return features"
   ]
  },
  {
   "cell_type": "code",
   "execution_count": 37,
   "id": "9f7ee295-1907-417a-be25-c2b9d7cf6fed",
   "metadata": {},
   "outputs": [
    {
     "ename": "ValueError",
     "evalue": "Points must be coplanar",
     "output_type": "error",
     "traceback": [
      "\u001b[1;31m---------------------------------------------------------------------------\u001b[0m",
      "\u001b[1;31mModuleNotFoundError\u001b[0m                       Traceback (most recent call last)",
      "File \u001b[1;32m~\\anaconda3\\envs\\python38\\lib\\site-packages\\trimesh\\bounds.py:179\u001b[0m, in \u001b[0;36moriented_bounds\u001b[1;34m(obj, angle_digits, ordered, normal, coplanar_tol)\u001b[0m\n\u001b[0;32m    175\u001b[0m \u001b[38;5;28;01mtry\u001b[39;00m:\n\u001b[0;32m    176\u001b[0m     \u001b[38;5;66;03m# extract a set of convex hull vertices and normals from the input\u001b[39;00m\n\u001b[0;32m    177\u001b[0m     \u001b[38;5;66;03m# we bother to do this to avoid recomputing the full convex hull if\u001b[39;00m\n\u001b[0;32m    178\u001b[0m     \u001b[38;5;66;03m# possible\u001b[39;00m\n\u001b[1;32m--> 179\u001b[0m     \u001b[38;5;28;01mif\u001b[39;00m \u001b[38;5;28;43mhasattr\u001b[39;49m\u001b[43m(\u001b[49m\u001b[43mobj\u001b[49m\u001b[43m,\u001b[49m\u001b[43m \u001b[49m\u001b[38;5;124;43m\"\u001b[39;49m\u001b[38;5;124;43mconvex_hull\u001b[39;49m\u001b[38;5;124;43m\"\u001b[39;49m\u001b[43m)\u001b[49m:\n\u001b[0;32m    180\u001b[0m         \u001b[38;5;66;03m# if we have been passed a mesh, use its existing convex hull to pull from\u001b[39;00m\n\u001b[0;32m    181\u001b[0m         \u001b[38;5;66;03m# cache rather than recomputing. This version of the cached convex hull has\u001b[39;00m\n\u001b[0;32m    182\u001b[0m         \u001b[38;5;66;03m# normals pointing in arbitrary directions (straight from qhull)\u001b[39;00m\n\u001b[0;32m    183\u001b[0m         \u001b[38;5;66;03m# using this avoids having to compute the expensive corrected normals\u001b[39;00m\n\u001b[0;32m    184\u001b[0m         \u001b[38;5;66;03m# that mesh.convex_hull uses since normal directions don't matter\u001b[39;00m\n\u001b[0;32m    185\u001b[0m         \u001b[38;5;66;03m# here\u001b[39;00m\n\u001b[0;32m    186\u001b[0m         hull \u001b[38;5;241m=\u001b[39m obj\u001b[38;5;241m.\u001b[39mconvex_hull\n",
      "File \u001b[1;32m~\\anaconda3\\envs\\python38\\lib\\site-packages\\trimesh\\caching.py:139\u001b[0m, in \u001b[0;36mcache_decorator.<locals>.get_cached\u001b[1;34m(*args, **kwargs)\u001b[0m\n\u001b[0;32m    138\u001b[0m \u001b[38;5;66;03m# value not in cache so execute the function\u001b[39;00m\n\u001b[1;32m--> 139\u001b[0m value \u001b[38;5;241m=\u001b[39m \u001b[43mfunction\u001b[49m\u001b[43m(\u001b[49m\u001b[38;5;241;43m*\u001b[39;49m\u001b[43margs\u001b[49m\u001b[43m,\u001b[49m\u001b[43m \u001b[49m\u001b[38;5;241;43m*\u001b[39;49m\u001b[38;5;241;43m*\u001b[39;49m\u001b[43mkwargs\u001b[49m\u001b[43m)\u001b[49m\n\u001b[0;32m    140\u001b[0m \u001b[38;5;66;03m# store the value\u001b[39;00m\n",
      "File \u001b[1;32m~\\anaconda3\\envs\\python38\\lib\\site-packages\\trimesh\\base.py:2361\u001b[0m, in \u001b[0;36mTrimesh.convex_hull\u001b[1;34m(self)\u001b[0m\n\u001b[0;32m   2352\u001b[0m \u001b[38;5;250m\u001b[39m\u001b[38;5;124;03m\"\"\"\u001b[39;00m\n\u001b[0;32m   2353\u001b[0m \u001b[38;5;124;03mReturns a Trimesh object representing the convex hull of\u001b[39;00m\n\u001b[0;32m   2354\u001b[0m \u001b[38;5;124;03mthe current mesh.\u001b[39;00m\n\u001b[1;32m   (...)\u001b[0m\n\u001b[0;32m   2359\u001b[0m \u001b[38;5;124;03m  Mesh of convex hull of current mesh\u001b[39;00m\n\u001b[0;32m   2360\u001b[0m \u001b[38;5;124;03m\"\"\"\u001b[39;00m\n\u001b[1;32m-> 2361\u001b[0m \u001b[38;5;28;01mreturn\u001b[39;00m \u001b[43mconvex\u001b[49m\u001b[38;5;241;43m.\u001b[39;49m\u001b[43mconvex_hull\u001b[49m\u001b[43m(\u001b[49m\u001b[38;5;28;43mself\u001b[39;49m\u001b[43m)\u001b[49m\n",
      "File \u001b[1;32m~\\anaconda3\\envs\\python38\\lib\\site-packages\\trimesh\\convex.py:211\u001b[0m, in \u001b[0;36mconvex_hull\u001b[1;34m(obj, qhull_options, repair)\u001b[0m\n\u001b[0;32m    210\u001b[0m     \u001b[38;5;66;03m# try with \"joggle\" enabled\u001b[39;00m\n\u001b[1;32m--> 211\u001b[0m     hull \u001b[38;5;241m=\u001b[39m \u001b[43mConvexHull\u001b[49m\u001b[43m(\u001b[49m\u001b[43mpoints\u001b[49m\u001b[43m,\u001b[49m\u001b[43m \u001b[49m\u001b[43mqhull_options\u001b[49m\u001b[38;5;241;43m=\u001b[39;49m\u001b[38;5;124;43m\"\u001b[39;49m\u001b[38;5;124;43mQJ\u001b[39;49m\u001b[38;5;124;43m\"\u001b[39;49m\u001b[43m)\u001b[49m\n\u001b[0;32m    213\u001b[0m \u001b[38;5;66;03m# hull object doesn't remove unreferenced vertices\u001b[39;00m\n\u001b[0;32m    214\u001b[0m \u001b[38;5;66;03m# create a mask to re- index faces for only referenced vertices\u001b[39;00m\n",
      "File \u001b[1;32m~\\anaconda3\\envs\\python38\\lib\\site-packages\\trimesh\\exceptions.py:34\u001b[0m, in \u001b[0;36mExceptionWrapper.__call__\u001b[1;34m(self, *args, **kwargs)\u001b[0m\n\u001b[0;32m     32\u001b[0m \u001b[38;5;28;01mdef\u001b[39;00m \u001b[38;5;21m__call__\u001b[39m(\u001b[38;5;28mself\u001b[39m, \u001b[38;5;241m*\u001b[39margs, \u001b[38;5;241m*\u001b[39m\u001b[38;5;241m*\u001b[39mkwargs):\n\u001b[0;32m     33\u001b[0m     \u001b[38;5;66;03m# will raise when this object is called like a function\u001b[39;00m\n\u001b[1;32m---> 34\u001b[0m     \u001b[38;5;28;01mraise\u001b[39;00m \u001b[38;5;28msuper\u001b[39m()\u001b[38;5;241m.\u001b[39m\u001b[38;5;21m__getattribute__\u001b[39m(\u001b[38;5;124m\"\u001b[39m\u001b[38;5;124mexception\u001b[39m\u001b[38;5;124m\"\u001b[39m)\n",
      "File \u001b[1;32m~\\anaconda3\\envs\\python38\\lib\\site-packages\\trimesh\\convex.py:207\u001b[0m, in \u001b[0;36mconvex_hull\u001b[1;34m(obj, qhull_options, repair)\u001b[0m\n\u001b[0;32m    206\u001b[0m \u001b[38;5;28;01mtry\u001b[39;00m:\n\u001b[1;32m--> 207\u001b[0m     hull \u001b[38;5;241m=\u001b[39m \u001b[43mConvexHull\u001b[49m\u001b[43m(\u001b[49m\u001b[43mpoints\u001b[49m\u001b[43m,\u001b[49m\u001b[43m \u001b[49m\u001b[43mqhull_options\u001b[49m\u001b[38;5;241;43m=\u001b[39;49m\u001b[43mqhull_str\u001b[49m\u001b[43m)\u001b[49m\n\u001b[0;32m    208\u001b[0m \u001b[38;5;28;01mexcept\u001b[39;00m QhullError:\n",
      "File \u001b[1;32m~\\anaconda3\\envs\\python38\\lib\\site-packages\\trimesh\\exceptions.py:34\u001b[0m, in \u001b[0;36mExceptionWrapper.__call__\u001b[1;34m(self, *args, **kwargs)\u001b[0m\n\u001b[0;32m     32\u001b[0m \u001b[38;5;28;01mdef\u001b[39;00m \u001b[38;5;21m__call__\u001b[39m(\u001b[38;5;28mself\u001b[39m, \u001b[38;5;241m*\u001b[39margs, \u001b[38;5;241m*\u001b[39m\u001b[38;5;241m*\u001b[39mkwargs):\n\u001b[0;32m     33\u001b[0m     \u001b[38;5;66;03m# will raise when this object is called like a function\u001b[39;00m\n\u001b[1;32m---> 34\u001b[0m     \u001b[38;5;28;01mraise\u001b[39;00m \u001b[38;5;28msuper\u001b[39m()\u001b[38;5;241m.\u001b[39m\u001b[38;5;21m__getattribute__\u001b[39m(\u001b[38;5;124m\"\u001b[39m\u001b[38;5;124mexception\u001b[39m\u001b[38;5;124m\"\u001b[39m)\n",
      "File \u001b[1;32m~\\anaconda3\\envs\\python38\\lib\\site-packages\\trimesh\\bounds.py:179\u001b[0m, in \u001b[0;36moriented_bounds\u001b[1;34m(obj, angle_digits, ordered, normal, coplanar_tol)\u001b[0m\n\u001b[0;32m    175\u001b[0m \u001b[38;5;28;01mtry\u001b[39;00m:\n\u001b[0;32m    176\u001b[0m     \u001b[38;5;66;03m# extract a set of convex hull vertices and normals from the input\u001b[39;00m\n\u001b[0;32m    177\u001b[0m     \u001b[38;5;66;03m# we bother to do this to avoid recomputing the full convex hull if\u001b[39;00m\n\u001b[0;32m    178\u001b[0m     \u001b[38;5;66;03m# possible\u001b[39;00m\n\u001b[1;32m--> 179\u001b[0m     \u001b[38;5;28;01mif\u001b[39;00m \u001b[38;5;28;43mhasattr\u001b[39;49m\u001b[43m(\u001b[49m\u001b[43mobj\u001b[49m\u001b[43m,\u001b[49m\u001b[43m \u001b[49m\u001b[38;5;124;43m\"\u001b[39;49m\u001b[38;5;124;43mconvex_hull\u001b[39;49m\u001b[38;5;124;43m\"\u001b[39;49m\u001b[43m)\u001b[49m:\n\u001b[0;32m    180\u001b[0m         \u001b[38;5;66;03m# if we have been passed a mesh, use its existing convex hull to pull from\u001b[39;00m\n\u001b[0;32m    181\u001b[0m         \u001b[38;5;66;03m# cache rather than recomputing. This version of the cached convex hull has\u001b[39;00m\n\u001b[0;32m    182\u001b[0m         \u001b[38;5;66;03m# normals pointing in arbitrary directions (straight from qhull)\u001b[39;00m\n\u001b[0;32m    183\u001b[0m         \u001b[38;5;66;03m# using this avoids having to compute the expensive corrected normals\u001b[39;00m\n\u001b[0;32m    184\u001b[0m         \u001b[38;5;66;03m# that mesh.convex_hull uses since normal directions don't matter\u001b[39;00m\n\u001b[0;32m    185\u001b[0m         \u001b[38;5;66;03m# here\u001b[39;00m\n\u001b[0;32m    186\u001b[0m         hull \u001b[38;5;241m=\u001b[39m obj\u001b[38;5;241m.\u001b[39mconvex_hull\n",
      "File \u001b[1;32m~\\anaconda3\\envs\\python38\\lib\\site-packages\\trimesh\\caching.py:139\u001b[0m, in \u001b[0;36mcache_decorator.<locals>.get_cached\u001b[1;34m(*args, **kwargs)\u001b[0m\n\u001b[0;32m    138\u001b[0m \u001b[38;5;66;03m# value not in cache so execute the function\u001b[39;00m\n\u001b[1;32m--> 139\u001b[0m value \u001b[38;5;241m=\u001b[39m \u001b[43mfunction\u001b[49m\u001b[43m(\u001b[49m\u001b[38;5;241;43m*\u001b[39;49m\u001b[43margs\u001b[49m\u001b[43m,\u001b[49m\u001b[43m \u001b[49m\u001b[38;5;241;43m*\u001b[39;49m\u001b[38;5;241;43m*\u001b[39;49m\u001b[43mkwargs\u001b[49m\u001b[43m)\u001b[49m\n\u001b[0;32m    140\u001b[0m \u001b[38;5;66;03m# store the value\u001b[39;00m\n",
      "File \u001b[1;32m~\\anaconda3\\envs\\python38\\lib\\site-packages\\trimesh\\base.py:2361\u001b[0m, in \u001b[0;36mTrimesh.convex_hull\u001b[1;34m(self)\u001b[0m\n\u001b[0;32m   2352\u001b[0m \u001b[38;5;250m\u001b[39m\u001b[38;5;124;03m\"\"\"\u001b[39;00m\n\u001b[0;32m   2353\u001b[0m \u001b[38;5;124;03mReturns a Trimesh object representing the convex hull of\u001b[39;00m\n\u001b[0;32m   2354\u001b[0m \u001b[38;5;124;03mthe current mesh.\u001b[39;00m\n\u001b[1;32m   (...)\u001b[0m\n\u001b[0;32m   2359\u001b[0m \u001b[38;5;124;03m  Mesh of convex hull of current mesh\u001b[39;00m\n\u001b[0;32m   2360\u001b[0m \u001b[38;5;124;03m\"\"\"\u001b[39;00m\n\u001b[1;32m-> 2361\u001b[0m \u001b[38;5;28;01mreturn\u001b[39;00m \u001b[43mconvex\u001b[49m\u001b[38;5;241;43m.\u001b[39;49m\u001b[43mconvex_hull\u001b[49m\u001b[43m(\u001b[49m\u001b[38;5;28;43mself\u001b[39;49m\u001b[43m)\u001b[49m\n",
      "File \u001b[1;32m~\\anaconda3\\envs\\python38\\lib\\site-packages\\trimesh\\convex.py:211\u001b[0m, in \u001b[0;36mconvex_hull\u001b[1;34m(obj, qhull_options, repair)\u001b[0m\n\u001b[0;32m    210\u001b[0m     \u001b[38;5;66;03m# try with \"joggle\" enabled\u001b[39;00m\n\u001b[1;32m--> 211\u001b[0m     hull \u001b[38;5;241m=\u001b[39m \u001b[43mConvexHull\u001b[49m\u001b[43m(\u001b[49m\u001b[43mpoints\u001b[49m\u001b[43m,\u001b[49m\u001b[43m \u001b[49m\u001b[43mqhull_options\u001b[49m\u001b[38;5;241;43m=\u001b[39;49m\u001b[38;5;124;43m\"\u001b[39;49m\u001b[38;5;124;43mQJ\u001b[39;49m\u001b[38;5;124;43m\"\u001b[39;49m\u001b[43m)\u001b[49m\n\u001b[0;32m    213\u001b[0m \u001b[38;5;66;03m# hull object doesn't remove unreferenced vertices\u001b[39;00m\n\u001b[0;32m    214\u001b[0m \u001b[38;5;66;03m# create a mask to re- index faces for only referenced vertices\u001b[39;00m\n",
      "File \u001b[1;32m~\\anaconda3\\envs\\python38\\lib\\site-packages\\trimesh\\exceptions.py:34\u001b[0m, in \u001b[0;36mExceptionWrapper.__call__\u001b[1;34m(self, *args, **kwargs)\u001b[0m\n\u001b[0;32m     32\u001b[0m \u001b[38;5;28;01mdef\u001b[39;00m \u001b[38;5;21m__call__\u001b[39m(\u001b[38;5;28mself\u001b[39m, \u001b[38;5;241m*\u001b[39margs, \u001b[38;5;241m*\u001b[39m\u001b[38;5;241m*\u001b[39mkwargs):\n\u001b[0;32m     33\u001b[0m     \u001b[38;5;66;03m# will raise when this object is called like a function\u001b[39;00m\n\u001b[1;32m---> 34\u001b[0m     \u001b[38;5;28;01mraise\u001b[39;00m \u001b[38;5;28msuper\u001b[39m()\u001b[38;5;241m.\u001b[39m\u001b[38;5;21m__getattribute__\u001b[39m(\u001b[38;5;124m\"\u001b[39m\u001b[38;5;124mexception\u001b[39m\u001b[38;5;124m\"\u001b[39m)\n",
      "File \u001b[1;32m~\\anaconda3\\envs\\python38\\lib\\site-packages\\trimesh\\convex.py:207\u001b[0m, in \u001b[0;36mconvex_hull\u001b[1;34m(obj, qhull_options, repair)\u001b[0m\n\u001b[0;32m    206\u001b[0m \u001b[38;5;28;01mtry\u001b[39;00m:\n\u001b[1;32m--> 207\u001b[0m     hull \u001b[38;5;241m=\u001b[39m \u001b[43mConvexHull\u001b[49m\u001b[43m(\u001b[49m\u001b[43mpoints\u001b[49m\u001b[43m,\u001b[49m\u001b[43m \u001b[49m\u001b[43mqhull_options\u001b[49m\u001b[38;5;241;43m=\u001b[39;49m\u001b[43mqhull_str\u001b[49m\u001b[43m)\u001b[49m\n\u001b[0;32m    208\u001b[0m \u001b[38;5;28;01mexcept\u001b[39;00m QhullError:\n",
      "File \u001b[1;32m~\\anaconda3\\envs\\python38\\lib\\site-packages\\trimesh\\exceptions.py:34\u001b[0m, in \u001b[0;36mExceptionWrapper.__call__\u001b[1;34m(self, *args, **kwargs)\u001b[0m\n\u001b[0;32m     32\u001b[0m \u001b[38;5;28;01mdef\u001b[39;00m \u001b[38;5;21m__call__\u001b[39m(\u001b[38;5;28mself\u001b[39m, \u001b[38;5;241m*\u001b[39margs, \u001b[38;5;241m*\u001b[39m\u001b[38;5;241m*\u001b[39mkwargs):\n\u001b[0;32m     33\u001b[0m     \u001b[38;5;66;03m# will raise when this object is called like a function\u001b[39;00m\n\u001b[1;32m---> 34\u001b[0m     \u001b[38;5;28;01mraise\u001b[39;00m \u001b[38;5;28msuper\u001b[39m()\u001b[38;5;241m.\u001b[39m\u001b[38;5;21m__getattribute__\u001b[39m(\u001b[38;5;124m\"\u001b[39m\u001b[38;5;124mexception\u001b[39m\u001b[38;5;124m\"\u001b[39m)\n",
      "File \u001b[1;32m~\\anaconda3\\envs\\python38\\lib\\site-packages\\trimesh\\bounds.py:179\u001b[0m, in \u001b[0;36moriented_bounds\u001b[1;34m(obj, angle_digits, ordered, normal, coplanar_tol)\u001b[0m\n\u001b[0;32m    175\u001b[0m \u001b[38;5;28;01mtry\u001b[39;00m:\n\u001b[0;32m    176\u001b[0m     \u001b[38;5;66;03m# extract a set of convex hull vertices and normals from the input\u001b[39;00m\n\u001b[0;32m    177\u001b[0m     \u001b[38;5;66;03m# we bother to do this to avoid recomputing the full convex hull if\u001b[39;00m\n\u001b[0;32m    178\u001b[0m     \u001b[38;5;66;03m# possible\u001b[39;00m\n\u001b[1;32m--> 179\u001b[0m     \u001b[38;5;28;01mif\u001b[39;00m \u001b[38;5;28;43mhasattr\u001b[39;49m\u001b[43m(\u001b[49m\u001b[43mobj\u001b[49m\u001b[43m,\u001b[49m\u001b[43m \u001b[49m\u001b[38;5;124;43m\"\u001b[39;49m\u001b[38;5;124;43mconvex_hull\u001b[39;49m\u001b[38;5;124;43m\"\u001b[39;49m\u001b[43m)\u001b[49m:\n\u001b[0;32m    180\u001b[0m         \u001b[38;5;66;03m# if we have been passed a mesh, use its existing convex hull to pull from\u001b[39;00m\n\u001b[0;32m    181\u001b[0m         \u001b[38;5;66;03m# cache rather than recomputing. This version of the cached convex hull has\u001b[39;00m\n\u001b[0;32m    182\u001b[0m         \u001b[38;5;66;03m# normals pointing in arbitrary directions (straight from qhull)\u001b[39;00m\n\u001b[0;32m    183\u001b[0m         \u001b[38;5;66;03m# using this avoids having to compute the expensive corrected normals\u001b[39;00m\n\u001b[0;32m    184\u001b[0m         \u001b[38;5;66;03m# that mesh.convex_hull uses since normal directions don't matter\u001b[39;00m\n\u001b[0;32m    185\u001b[0m         \u001b[38;5;66;03m# here\u001b[39;00m\n\u001b[0;32m    186\u001b[0m         hull \u001b[38;5;241m=\u001b[39m obj\u001b[38;5;241m.\u001b[39mconvex_hull\n",
      "File \u001b[1;32m~\\anaconda3\\envs\\python38\\lib\\site-packages\\trimesh\\caching.py:139\u001b[0m, in \u001b[0;36mcache_decorator.<locals>.get_cached\u001b[1;34m(*args, **kwargs)\u001b[0m\n\u001b[0;32m    138\u001b[0m \u001b[38;5;66;03m# value not in cache so execute the function\u001b[39;00m\n\u001b[1;32m--> 139\u001b[0m value \u001b[38;5;241m=\u001b[39m \u001b[43mfunction\u001b[49m\u001b[43m(\u001b[49m\u001b[38;5;241;43m*\u001b[39;49m\u001b[43margs\u001b[49m\u001b[43m,\u001b[49m\u001b[43m \u001b[49m\u001b[38;5;241;43m*\u001b[39;49m\u001b[38;5;241;43m*\u001b[39;49m\u001b[43mkwargs\u001b[49m\u001b[43m)\u001b[49m\n\u001b[0;32m    140\u001b[0m \u001b[38;5;66;03m# store the value\u001b[39;00m\n",
      "File \u001b[1;32m~\\anaconda3\\envs\\python38\\lib\\site-packages\\trimesh\\base.py:2361\u001b[0m, in \u001b[0;36mTrimesh.convex_hull\u001b[1;34m(self)\u001b[0m\n\u001b[0;32m   2352\u001b[0m \u001b[38;5;250m\u001b[39m\u001b[38;5;124;03m\"\"\"\u001b[39;00m\n\u001b[0;32m   2353\u001b[0m \u001b[38;5;124;03mReturns a Trimesh object representing the convex hull of\u001b[39;00m\n\u001b[0;32m   2354\u001b[0m \u001b[38;5;124;03mthe current mesh.\u001b[39;00m\n\u001b[1;32m   (...)\u001b[0m\n\u001b[0;32m   2359\u001b[0m \u001b[38;5;124;03m  Mesh of convex hull of current mesh\u001b[39;00m\n\u001b[0;32m   2360\u001b[0m \u001b[38;5;124;03m\"\"\"\u001b[39;00m\n\u001b[1;32m-> 2361\u001b[0m \u001b[38;5;28;01mreturn\u001b[39;00m \u001b[43mconvex\u001b[49m\u001b[38;5;241;43m.\u001b[39;49m\u001b[43mconvex_hull\u001b[49m\u001b[43m(\u001b[49m\u001b[38;5;28;43mself\u001b[39;49m\u001b[43m)\u001b[49m\n",
      "File \u001b[1;32m~\\anaconda3\\envs\\python38\\lib\\site-packages\\trimesh\\convex.py:211\u001b[0m, in \u001b[0;36mconvex_hull\u001b[1;34m(obj, qhull_options, repair)\u001b[0m\n\u001b[0;32m    210\u001b[0m     \u001b[38;5;66;03m# try with \"joggle\" enabled\u001b[39;00m\n\u001b[1;32m--> 211\u001b[0m     hull \u001b[38;5;241m=\u001b[39m \u001b[43mConvexHull\u001b[49m\u001b[43m(\u001b[49m\u001b[43mpoints\u001b[49m\u001b[43m,\u001b[49m\u001b[43m \u001b[49m\u001b[43mqhull_options\u001b[49m\u001b[38;5;241;43m=\u001b[39;49m\u001b[38;5;124;43m\"\u001b[39;49m\u001b[38;5;124;43mQJ\u001b[39;49m\u001b[38;5;124;43m\"\u001b[39;49m\u001b[43m)\u001b[49m\n\u001b[0;32m    213\u001b[0m \u001b[38;5;66;03m# hull object doesn't remove unreferenced vertices\u001b[39;00m\n\u001b[0;32m    214\u001b[0m \u001b[38;5;66;03m# create a mask to re- index faces for only referenced vertices\u001b[39;00m\n",
      "File \u001b[1;32m~\\anaconda3\\envs\\python38\\lib\\site-packages\\trimesh\\exceptions.py:34\u001b[0m, in \u001b[0;36mExceptionWrapper.__call__\u001b[1;34m(self, *args, **kwargs)\u001b[0m\n\u001b[0;32m     32\u001b[0m \u001b[38;5;28;01mdef\u001b[39;00m \u001b[38;5;21m__call__\u001b[39m(\u001b[38;5;28mself\u001b[39m, \u001b[38;5;241m*\u001b[39margs, \u001b[38;5;241m*\u001b[39m\u001b[38;5;241m*\u001b[39mkwargs):\n\u001b[0;32m     33\u001b[0m     \u001b[38;5;66;03m# will raise when this object is called like a function\u001b[39;00m\n\u001b[1;32m---> 34\u001b[0m     \u001b[38;5;28;01mraise\u001b[39;00m \u001b[38;5;28msuper\u001b[39m()\u001b[38;5;241m.\u001b[39m\u001b[38;5;21m__getattribute__\u001b[39m(\u001b[38;5;124m\"\u001b[39m\u001b[38;5;124mexception\u001b[39m\u001b[38;5;124m\"\u001b[39m)\n",
      "File \u001b[1;32m~\\anaconda3\\envs\\python38\\lib\\site-packages\\trimesh\\convex.py:207\u001b[0m, in \u001b[0;36mconvex_hull\u001b[1;34m(obj, qhull_options, repair)\u001b[0m\n\u001b[0;32m    206\u001b[0m \u001b[38;5;28;01mtry\u001b[39;00m:\n\u001b[1;32m--> 207\u001b[0m     hull \u001b[38;5;241m=\u001b[39m \u001b[43mConvexHull\u001b[49m\u001b[43m(\u001b[49m\u001b[43mpoints\u001b[49m\u001b[43m,\u001b[49m\u001b[43m \u001b[49m\u001b[43mqhull_options\u001b[49m\u001b[38;5;241;43m=\u001b[39;49m\u001b[43mqhull_str\u001b[49m\u001b[43m)\u001b[49m\n\u001b[0;32m    208\u001b[0m \u001b[38;5;28;01mexcept\u001b[39;00m QhullError:\n",
      "File \u001b[1;32m~\\anaconda3\\envs\\python38\\lib\\site-packages\\trimesh\\exceptions.py:34\u001b[0m, in \u001b[0;36mExceptionWrapper.__call__\u001b[1;34m(self, *args, **kwargs)\u001b[0m\n\u001b[0;32m     32\u001b[0m \u001b[38;5;28;01mdef\u001b[39;00m \u001b[38;5;21m__call__\u001b[39m(\u001b[38;5;28mself\u001b[39m, \u001b[38;5;241m*\u001b[39margs, \u001b[38;5;241m*\u001b[39m\u001b[38;5;241m*\u001b[39mkwargs):\n\u001b[0;32m     33\u001b[0m     \u001b[38;5;66;03m# will raise when this object is called like a function\u001b[39;00m\n\u001b[1;32m---> 34\u001b[0m     \u001b[38;5;28;01mraise\u001b[39;00m \u001b[38;5;28msuper\u001b[39m()\u001b[38;5;241m.\u001b[39m\u001b[38;5;21m__getattribute__\u001b[39m(\u001b[38;5;124m\"\u001b[39m\u001b[38;5;124mexception\u001b[39m\u001b[38;5;124m\"\u001b[39m)\n",
      "File \u001b[1;32m~\\anaconda3\\envs\\python38\\lib\\site-packages\\trimesh\\convex.py:22\u001b[0m\n\u001b[0;32m     21\u001b[0m \u001b[38;5;28;01mtry\u001b[39;00m:\n\u001b[1;32m---> 22\u001b[0m     \u001b[38;5;28;01mfrom\u001b[39;00m \u001b[38;5;21;01mscipy\u001b[39;00m\u001b[38;5;21;01m.\u001b[39;00m\u001b[38;5;21;01mspatial\u001b[39;00m \u001b[38;5;28;01mimport\u001b[39;00m ConvexHull\n\u001b[0;32m     23\u001b[0m \u001b[38;5;28;01mexcept\u001b[39;00m \u001b[38;5;167;01mImportError\u001b[39;00m \u001b[38;5;28;01mas\u001b[39;00m E:\n",
      "\u001b[1;31mModuleNotFoundError\u001b[0m: No module named 'scipy'",
      "\nDuring handling of the above exception, another exception occurred:\n",
      "\u001b[1;31mValueError\u001b[0m                                Traceback (most recent call last)",
      "Cell \u001b[1;32mIn[37], line 17\u001b[0m\n\u001b[0;32m     15\u001b[0m shape \u001b[38;5;241m=\u001b[39m trimesh\u001b[38;5;241m.\u001b[39mload(shape_file)\n\u001b[0;32m     16\u001b[0m normalized_shape \u001b[38;5;241m=\u001b[39m normalize_shape(shape)\n\u001b[1;32m---> 17\u001b[0m features \u001b[38;5;241m=\u001b[39m \u001b[43mextract_features\u001b[49m\u001b[43m(\u001b[49m\u001b[43mnormalized_shape\u001b[49m\u001b[43m)\u001b[49m\n\u001b[0;32m     18\u001b[0m features[\u001b[38;5;124m'\u001b[39m\u001b[38;5;124mShape File\u001b[39m\u001b[38;5;124m'\u001b[39m] \u001b[38;5;241m=\u001b[39m shape_file\n\u001b[0;32m     19\u001b[0m all_features\u001b[38;5;241m.\u001b[39mappend(features)\n",
      "Cell \u001b[1;32mIn[36], line 7\u001b[0m, in \u001b[0;36mextract_features\u001b[1;34m(mesh)\u001b[0m\n\u001b[0;32m      5\u001b[0m features[\u001b[38;5;124m'\u001b[39m\u001b[38;5;124mSurface Area\u001b[39m\u001b[38;5;124m'\u001b[39m] \u001b[38;5;241m=\u001b[39m mesh\u001b[38;5;241m.\u001b[39marea\n\u001b[0;32m      6\u001b[0m features[\u001b[38;5;124m'\u001b[39m\u001b[38;5;124mCompactness\u001b[39m\u001b[38;5;124m'\u001b[39m] \u001b[38;5;241m=\u001b[39m (\u001b[38;5;241m36\u001b[39m \u001b[38;5;241m*\u001b[39m np\u001b[38;5;241m.\u001b[39mpi \u001b[38;5;241m*\u001b[39m (mesh\u001b[38;5;241m.\u001b[39mvolume \u001b[38;5;241m*\u001b[39m\u001b[38;5;241m*\u001b[39m \u001b[38;5;241m2\u001b[39m)) \u001b[38;5;241m/\u001b[39m (mesh\u001b[38;5;241m.\u001b[39marea \u001b[38;5;241m*\u001b[39m\u001b[38;5;241m*\u001b[39m \u001b[38;5;241m3\u001b[39m)  \u001b[38;5;66;03m# Compactness with respect to a sphere\u001b[39;00m\n\u001b[1;32m----> 7\u001b[0m obb \u001b[38;5;241m=\u001b[39m \u001b[43mmesh\u001b[49m\u001b[38;5;241;43m.\u001b[39;49m\u001b[43mbounding_box_oriented\u001b[49m\n\u001b[0;32m      8\u001b[0m features[\u001b[38;5;124m'\u001b[39m\u001b[38;5;124m3D Rectangularity\u001b[39m\u001b[38;5;124m'\u001b[39m] \u001b[38;5;241m=\u001b[39m mesh\u001b[38;5;241m.\u001b[39mvolume \u001b[38;5;241m/\u001b[39m obb\u001b[38;5;241m.\u001b[39mvolume\n\u001b[0;32m      9\u001b[0m features[\u001b[38;5;124m'\u001b[39m\u001b[38;5;124mDiameter\u001b[39m\u001b[38;5;124m'\u001b[39m] \u001b[38;5;241m=\u001b[39m np\u001b[38;5;241m.\u001b[39mmax(mesh\u001b[38;5;241m.\u001b[39mbounding_box\u001b[38;5;241m.\u001b[39mextents)\n",
      "File \u001b[1;32m~\\anaconda3\\envs\\python38\\lib\\site-packages\\trimesh\\caching.py:139\u001b[0m, in \u001b[0;36mcache_decorator.<locals>.get_cached\u001b[1;34m(*args, **kwargs)\u001b[0m\n\u001b[0;32m    137\u001b[0m     \u001b[38;5;28;01mreturn\u001b[39;00m \u001b[38;5;28mself\u001b[39m\u001b[38;5;241m.\u001b[39m_cache\u001b[38;5;241m.\u001b[39mcache[name]\n\u001b[0;32m    138\u001b[0m \u001b[38;5;66;03m# value not in cache so execute the function\u001b[39;00m\n\u001b[1;32m--> 139\u001b[0m value \u001b[38;5;241m=\u001b[39m \u001b[43mfunction\u001b[49m\u001b[43m(\u001b[49m\u001b[38;5;241;43m*\u001b[39;49m\u001b[43margs\u001b[49m\u001b[43m,\u001b[49m\u001b[43m \u001b[49m\u001b[38;5;241;43m*\u001b[39;49m\u001b[38;5;241;43m*\u001b[39;49m\u001b[43mkwargs\u001b[49m\u001b[43m)\u001b[49m\n\u001b[0;32m    140\u001b[0m \u001b[38;5;66;03m# store the value\u001b[39;00m\n\u001b[0;32m    141\u001b[0m \u001b[38;5;28;01mif\u001b[39;00m (\n\u001b[0;32m    142\u001b[0m     \u001b[38;5;28mself\u001b[39m\u001b[38;5;241m.\u001b[39m_cache\u001b[38;5;241m.\u001b[39mforce_immutable\n\u001b[0;32m    143\u001b[0m     \u001b[38;5;129;01mand\u001b[39;00m \u001b[38;5;28mhasattr\u001b[39m(value, \u001b[38;5;124m\"\u001b[39m\u001b[38;5;124mflags\u001b[39m\u001b[38;5;124m\"\u001b[39m)\n\u001b[0;32m    144\u001b[0m     \u001b[38;5;129;01mand\u001b[39;00m \u001b[38;5;28mlen\u001b[39m(value\u001b[38;5;241m.\u001b[39mshape) \u001b[38;5;241m>\u001b[39m \u001b[38;5;241m0\u001b[39m\n\u001b[0;32m    145\u001b[0m ):\n",
      "File \u001b[1;32m~\\anaconda3\\envs\\python38\\lib\\site-packages\\trimesh\\parent.py:249\u001b[0m, in \u001b[0;36mGeometry3D.bounding_box_oriented\u001b[1;34m(self)\u001b[0m\n\u001b[0;32m    237\u001b[0m \u001b[38;5;250m\u001b[39m\u001b[38;5;124;03m\"\"\"\u001b[39;00m\n\u001b[0;32m    238\u001b[0m \u001b[38;5;124;03mAn oriented bounding box for the current mesh.\u001b[39;00m\n\u001b[0;32m    239\u001b[0m \n\u001b[1;32m   (...)\u001b[0m\n\u001b[0;32m    245\u001b[0m \u001b[38;5;124;03m  bounding box of the mesh\u001b[39;00m\n\u001b[0;32m    246\u001b[0m \u001b[38;5;124;03m\"\"\"\u001b[39;00m\n\u001b[0;32m    247\u001b[0m \u001b[38;5;28;01mfrom\u001b[39;00m \u001b[38;5;21;01m.\u001b[39;00m \u001b[38;5;28;01mimport\u001b[39;00m bounds, primitives\n\u001b[1;32m--> 249\u001b[0m to_origin, extents \u001b[38;5;241m=\u001b[39m \u001b[43mbounds\u001b[49m\u001b[38;5;241;43m.\u001b[39;49m\u001b[43moriented_bounds\u001b[49m\u001b[43m(\u001b[49m\u001b[38;5;28;43mself\u001b[39;49m\u001b[43m)\u001b[49m\n\u001b[0;32m    250\u001b[0m \u001b[38;5;28;01mreturn\u001b[39;00m primitives\u001b[38;5;241m.\u001b[39mBox(\n\u001b[0;32m    251\u001b[0m     transform\u001b[38;5;241m=\u001b[39mnp\u001b[38;5;241m.\u001b[39mlinalg\u001b[38;5;241m.\u001b[39minv(to_origin), extents\u001b[38;5;241m=\u001b[39mextents, mutable\u001b[38;5;241m=\u001b[39m\u001b[38;5;28;01mFalse\u001b[39;00m\n\u001b[0;32m    252\u001b[0m )\n",
      "File \u001b[1;32m~\\anaconda3\\envs\\python38\\lib\\site-packages\\trimesh\\bounds.py:207\u001b[0m, in \u001b[0;36moriented_bounds\u001b[1;34m(obj, angle_digits, ordered, normal, coplanar_tol)\u001b[0m\n\u001b[0;32m    205\u001b[0m     \u001b[38;5;28;01melse\u001b[39;00m:\n\u001b[0;32m    206\u001b[0m         \u001b[38;5;28;01mraise\u001b[39;00m\n\u001b[1;32m--> 207\u001b[0m     \u001b[38;5;28;01mreturn\u001b[39;00m \u001b[43moriented_bounds_coplanar\u001b[49m\u001b[43m(\u001b[49m\u001b[43mpoints\u001b[49m\u001b[43m)\u001b[49m\n\u001b[0;32m    209\u001b[0m vertices \u001b[38;5;241m=\u001b[39m hull\u001b[38;5;241m.\u001b[39mvertices\n\u001b[0;32m    210\u001b[0m hull_adj \u001b[38;5;241m=\u001b[39m hull\u001b[38;5;241m.\u001b[39mface_adjacency\u001b[38;5;241m.\u001b[39mT\n",
      "File \u001b[1;32m~\\anaconda3\\envs\\python38\\lib\\site-packages\\trimesh\\bounds.py:160\u001b[0m, in \u001b[0;36moriented_bounds.<locals>.oriented_bounds_coplanar\u001b[1;34m(points)\u001b[0m\n\u001b[0;32m    158\u001b[0m points_2d \u001b[38;5;241m=\u001b[39m np\u001b[38;5;241m.\u001b[39mmatmul(points_demeaned, vh\u001b[38;5;241m.\u001b[39mT)\n\u001b[0;32m    159\u001b[0m \u001b[38;5;28;01mif\u001b[39;00m np\u001b[38;5;241m.\u001b[39many(np\u001b[38;5;241m.\u001b[39mabs(points_2d[:, \u001b[38;5;241m2\u001b[39m]) \u001b[38;5;241m>\u001b[39m coplanar_tol):\n\u001b[1;32m--> 160\u001b[0m     \u001b[38;5;28;01mraise\u001b[39;00m \u001b[38;5;167;01mValueError\u001b[39;00m(\u001b[38;5;124m\"\u001b[39m\u001b[38;5;124mPoints must be coplanar\u001b[39m\u001b[38;5;124m\"\u001b[39m)\n\u001b[0;32m    162\u001b[0m \u001b[38;5;66;03m# Construct a homogeneous matrix representing the transformation above\u001b[39;00m\n\u001b[0;32m    163\u001b[0m to_2d \u001b[38;5;241m=\u001b[39m np\u001b[38;5;241m.\u001b[39meye(\u001b[38;5;241m4\u001b[39m)\n",
      "\u001b[1;31mValueError\u001b[0m: Points must be coplanar"
     ]
    }
   ],
   "source": [
    "# Example Usage\n",
    "# Using the normalized shape file paths from Step 2\n",
    "normalized_shape_folder = './normalized_database'\n",
    "normalized_obj_file_paths = []\n",
    "\n",
    "# Walk through the folder structure to get all normalized shape paths\n",
    "for dirpath, dirnames, filenames in os.walk(normalized_shape_folder):\n",
    "    for file in filenames:\n",
    "        if file.endswith('.obj'):\n",
    "            full_path = os.path.join(dirpath, file)\n",
    "            normalized_obj_file_paths.append(full_path)\n",
    "\n",
    "all_features = []\n",
    "for shape_file in normalized_obj_file_paths:\n",
    "    shape = trimesh.load(shape_file)\n",
    "    normalized_shape = normalize_shape(shape)\n",
    "    features = extract_features(normalized_shape)\n",
    "    features['Shape File'] = shape_file\n",
    "    all_features.append(features)\n",
    "\n",
    "# Create a DataFrame for better tabular output\n",
    "features_df = pd.DataFrame(all_features)\n",
    "print(features_df)"
   ]
  },
  {
   "cell_type": "code",
   "execution_count": null,
   "id": "1a978fb4-77aa-4567-9d8f-a20c4686edc9",
   "metadata": {},
   "outputs": [],
   "source": []
  },
  {
   "cell_type": "code",
   "execution_count": null,
   "id": "1b0ba0db-88b0-4ada-b475-28e20afb9ffc",
   "metadata": {},
   "outputs": [],
   "source": []
  }
 ],
 "metadata": {
  "kernelspec": {
   "display_name": "Python 3 (ipykernel)",
   "language": "python",
   "name": "python3"
  },
  "language_info": {
   "codemirror_mode": {
    "name": "ipython",
    "version": 3
   },
   "file_extension": ".py",
   "mimetype": "text/x-python",
   "name": "python",
   "nbconvert_exporter": "python",
   "pygments_lexer": "ipython3",
   "version": "3.8.19"
  }
 },
 "nbformat": 4,
 "nbformat_minor": 5
}
