{
 "cells": [
  {
   "cell_type": "markdown",
   "id": "eca2f1e3f8522952",
   "metadata": {
    "collapsed": false,
    "jupyter": {
     "outputs_hidden": false
    }
   },
   "source": [
    "# Step - 2"
   ]
  },
  {
   "cell_type": "markdown",
   "id": "e40c88ba59db48fb",
   "metadata": {
    "collapsed": false,
    "jupyter": {
     "outputs_hidden": false
    }
   },
   "source": [
    "## Preconditions"
   ]
  },
  {
   "cell_type": "markdown",
   "id": "206832b8a5d7a12d",
   "metadata": {},
   "source": [
    "### Install the required libraries\n",
    "```bash\n",
    "pip install -r requirements.txt\n",
    "```\n",
    "\n"
   ]
  },
  {
   "cell_type": "code",
   "id": "7e3c4e1ddbc1aff0",
   "metadata": {
    "collapsed": false,
    "jupyter": {
     "outputs_hidden": false
    },
    "ExecuteTime": {
     "end_time": "2024-10-28T01:51:04.420138Z",
     "start_time": "2024-10-28T01:51:02.795363Z"
    }
   },
   "source": [
    "# Importing the required libraries\n",
    "import trimesh\n",
    "import os\n",
    "import matplotlib.pyplot as plt\n",
    "import json\n",
    "import numpy as np\n",
    "from sklearn.decomposition import PCA\n",
    "import pandas as pd"
   ],
   "outputs": [],
   "execution_count": 1
  },
  {
   "cell_type": "markdown",
   "id": "ce1b79c5a9f0a2eb",
   "metadata": {
    "collapsed": false,
    "jupyter": {
     "outputs_hidden": false
    }
   },
   "source": [
    "## Step 2.1: Analyzing a Single Shape"
   ]
  },
  {
   "cell_type": "code",
   "id": "10ec98479dcff158",
   "metadata": {
    "collapsed": false,
    "jupyter": {
     "outputs_hidden": false
    },
    "ExecuteTime": {
     "end_time": "2024-10-28T01:51:20.625521Z",
     "start_time": "2024-10-28T01:51:20.618877Z"
    }
   },
   "source": [
    "def analyze_shape(_file_path):\n",
    "    try:\n",
    "        mesh = trimesh.load(_file_path)\n",
    "        num_vertices = len(mesh.vertices)\n",
    "        num_faces = len(mesh.faces)\n",
    "        face_types = mesh.faces.shape[1]  # 3 for triangles, 4 for quads\n",
    "        bounding_box = mesh.bounding_box.extents\n",
    "        return num_vertices, num_faces, face_types, bounding_box\n",
    "    except Exception as e:\n",
    "        print(f\"Error processing {_file_path}: {e}\")\n",
    "        return None"
   ],
   "outputs": [],
   "execution_count": 2
  },
  {
   "cell_type": "markdown",
   "id": "4e0eb4adb7262f7a",
   "metadata": {
    "collapsed": false,
    "jupyter": {
     "outputs_hidden": false
    }
   },
   "source": []
  },
  {
   "cell_type": "markdown",
   "id": "299334b8f4896be5",
   "metadata": {
    "collapsed": false,
    "jupyter": {
     "outputs_hidden": false
    }
   },
   "source": [
    "## Step 2.2: Statistics Over the Whole Database"
   ]
  },
  {
   "cell_type": "code",
   "id": "5daf3c4733a634b7",
   "metadata": {
    "collapsed": false,
    "jupyter": {
     "outputs_hidden": false
    },
    "ExecuteTime": {
     "end_time": "2024-10-14T20:28:04.263647Z",
     "start_time": "2024-10-14T20:27:09.673944Z"
    }
   },
   "source": [
    "# Getting the properties of all the shapes\n",
    "shape_data = []\n",
    "\n",
    "# Define the root folder where the search begins\n",
    "root_folder = './ShapeDatabase_INFOMR-master'\n",
    "\n",
    "# List to store all .obj file paths\n",
    "obj_file_paths = []\n",
    "\n",
    "# Walk through the folder structure\n",
    "for dirpath, dirnames, filenames in os.walk(root_folder):\n",
    "    for file in filenames:\n",
    "        if file.endswith('.obj'):\n",
    "            # Get the full file path and add it to the list\n",
    "            full_path = os.path.join(dirpath, file)\n",
    "            obj_file_paths.append(full_path)\n",
    "\n",
    "# Print all .obj file paths                                                                                  \n",
    "for path in obj_file_paths:\n",
    "    file_path = path.replace('\\\\', '/')\n",
    "    genre = file_path.split('/')[-2]\n",
    "    shape_name = file_path.split('/')[-1].split('.')[0]\n",
    "    shape_properties = analyze_shape(file_path)\n",
    "    shape_data.append({\n",
    "        'file_path': file_path,\n",
    "        'genre': genre,\n",
    "        'shape_name': shape_name,\n",
    "        'num_vertices': shape_properties[0],\n",
    "        'num_faces': shape_properties[1],\n",
    "        'face_types': shape_properties[2],\n",
    "        'bounding_box': shape_properties[3].tolist()\n",
    "    })"
   ],
   "outputs": [],
   "execution_count": 6
  },
  {
   "metadata": {
    "ExecuteTime": {
     "end_time": "2024-10-14T20:29:04.704578Z",
     "start_time": "2024-10-14T20:29:04.664862Z"
    }
   },
   "cell_type": "code",
   "source": [
    "# Save the shape data to a file\n",
    "# import json\n",
    "# with open('raw_shape_data.json', 'w') as f:\n",
    "#     json.dump(shape_data, f)"
   ],
   "id": "e82d1c204c35b20",
   "outputs": [],
   "execution_count": 7
  },
  {
   "metadata": {
    "ExecuteTime": {
     "end_time": "2024-10-28T01:51:37.233807Z",
     "start_time": "2024-10-28T01:51:37.217595Z"
    }
   },
   "cell_type": "code",
   "source": [
    "# Load the shape data from the file\n",
    "import json\n",
    "with open('raw_shape_data.json', 'r') as f:\n",
    "    shape_data = json.load(f)"
   ],
   "id": "e5662d83b0841b98",
   "outputs": [],
   "execution_count": 3
  },
  {
   "metadata": {
    "ExecuteTime": {
     "end_time": "2024-10-28T01:51:44.500540Z",
     "start_time": "2024-10-28T01:51:44.479134Z"
    }
   },
   "cell_type": "code",
   "source": "shape_data[0]",
   "id": "f6eb0c6a00f2c75b",
   "outputs": [
    {
     "data": {
      "text/plain": [
       "{'file_path': './ShapeDatabase_INFOMR-master/AircraftBuoyant/m1337.obj',\n",
       " 'genre': 'AircraftBuoyant',\n",
       " 'shape_name': 'm1337',\n",
       " 'num_vertices': 201,\n",
       " 'num_faces': 340,\n",
       " 'face_types': 3,\n",
       " 'bounding_box': [0.864234, 0.95, 0.864234]}"
      ]
     },
     "execution_count": 4,
     "metadata": {},
     "output_type": "execute_result"
    }
   ],
   "execution_count": 4
  },
  {
   "metadata": {
    "ExecuteTime": {
     "end_time": "2024-10-28T01:51:54.154446Z",
     "start_time": "2024-10-28T01:51:54.142336Z"
    }
   },
   "cell_type": "code",
   "source": "len(shape_data)",
   "id": "6e47fbda5b024d46",
   "outputs": [
    {
     "data": {
      "text/plain": [
       "2483"
      ]
     },
     "execution_count": 5,
     "metadata": {},
     "output_type": "execute_result"
    }
   ],
   "execution_count": 5
  },
  {
   "metadata": {},
   "cell_type": "markdown",
   "source": "## Step 2.3: Resampling Outliers",
   "id": "2e794477a8b92dd1"
  },
  {
   "metadata": {
    "ExecuteTime": {
     "end_time": "2024-10-28T01:51:58.639765Z",
     "start_time": "2024-10-28T01:51:58.620217Z"
    }
   },
   "cell_type": "code",
   "source": [
    "# remove the outliers from the shape_data where num_vertices <= 100 or num_faces <= 100\n",
    "# shape_data_filtered = [data for data in shape_data if data['num_vertices'] > 100 and data['num_faces'] > 100]\n",
    "#print(f\"Number of outliers: {len(shape_data) - len(shape_data_filtered)}\")\n",
    "MIN_NUM_VERTICES = 10000\n",
    "outliers = [data for data in shape_data if data['num_vertices'] <= MIN_NUM_VERTICES]\n",
    "print(f\"Number of outliers: {len(outliers)}\")\n"
   ],
   "id": "f95d344db5627d22",
   "outputs": [
    {
     "name": "stdout",
     "output_type": "stream",
     "text": [
      "Number of outliers: 2121\n"
     ]
    }
   ],
   "execution_count": 6
  },
  {
   "metadata": {
    "ExecuteTime": {
     "end_time": "2024-10-28T01:52:17.279235Z",
     "start_time": "2024-10-28T01:52:17.265922Z"
    }
   },
   "cell_type": "code",
   "source": [
    "def refine_mesh(target_mesh, target_vertex_count=MIN_NUM_VERTICES):\n",
    "    # 获取当前顶点数量\n",
    "    current_vertex_count = len(target_mesh.vertices)\n",
    "    \n",
    "    # 如果顶点数大于等于目标数量，不进行任何处理\n",
    "    if current_vertex_count >= target_vertex_count:\n",
    "        return target_mesh\n",
    "\n",
    "    # 当顶点数小于目标数量时，细分直到接近目标数量\n",
    "    while len(target_mesh.vertices) < target_vertex_count:\n",
    "        # 使用 trimesh 的 subdivide 方法来细分\n",
    "        target_mesh = target_mesh.subdivide()\n",
    "        \n",
    "        # 每次细分后检查顶点数量\n",
    "        if len(target_mesh.vertices) >= target_vertex_count:\n",
    "            break\n",
    "    \n",
    "    return target_mesh\n"
   ],
   "id": "fed70da0174449d3",
   "outputs": [],
   "execution_count": 7
  },
  {
   "metadata": {
    "ExecuteTime": {
     "end_time": "2024-10-28T01:52:37.737891Z",
     "start_time": "2024-10-28T01:52:37.734384Z"
    }
   },
   "cell_type": "code",
   "source": "refinement_folder = './refined_shapes'",
   "id": "5e6b5d8ec20bf176",
   "outputs": [],
   "execution_count": 8
  },
  {
   "metadata": {
    "ExecuteTime": {
     "end_time": "2024-10-28T03:22:56.728991Z",
     "start_time": "2024-10-28T03:19:53.825730Z"
    }
   },
   "cell_type": "code",
   "source": [
    "#refinement_folder = './refined_shapes'\n",
    "refined_shapes = []\n",
    "for row in outliers:\n",
    "    try:\n",
    "        mesh = trimesh.load(row['file_path'])\n",
    "        refined_mesh = refine_mesh(mesh)\n",
    "        # \n",
    "        row['num_vertices'] = len(refined_mesh.vertices)\n",
    "        row['num_faces'] = len(refined_mesh.faces)\n",
    "        row['face_types'] = refined_mesh.faces.shape[1]\n",
    "        row['bounding_box'] = refined_mesh.bounding_box.extents.tolist()\n",
    "        refined_shapes.append(row)\n",
    "        # save the refined mesh to the refined_shapes folder\n",
    "        refined_mesh.export(f\"{refinement_folder}/{row['genre']}~{row['shape_name']}~refined.obj\")\n",
    "    except Exception as e:\n",
    "        print(f\"Error refining {row['file_path']}: {e}\")"
   ],
   "id": "57a657f444417071",
   "outputs": [],
   "execution_count": 80
  },
  {
   "metadata": {
    "ExecuteTime": {
     "end_time": "2024-10-28T03:24:44.653707Z",
     "start_time": "2024-10-28T03:24:44.645713Z"
    }
   },
   "cell_type": "code",
   "source": [
    "# describe the vertices and faces in refined_shapes\n",
    "vertices = [data['num_vertices'] for data in refined_shapes]\n",
    "faces = [data['num_faces'] for data in refined_shapes]\n",
    "print(f\"Vertices: Min: {min(vertices)}, Max: {max(vertices)}, Mean: {np.mean(vertices)}, Median: {np.median(vertices)}\")\n",
    "print(f\"Faces: Min: {min(faces)}, Max: {max(faces)}, Mean: {np.mean(faces)}, Median: {np.median(faces)}\")"
   ],
   "id": "67919382f32494e3",
   "outputs": [
    {
     "name": "stdout",
     "output_type": "stream",
     "text": [
      "Vertices: Min: 10002, Max: 39890, Mean: 22115.91937765205, Median: 21072.0\n",
      "Faces: Min: 13808, Max: 430080, Mean: 55545.99905704856, Median: 45056.0\n"
     ]
    }
   ],
   "execution_count": 81
  },
  {
   "metadata": {
    "ExecuteTime": {
     "end_time": "2024-10-28T03:27:39.030745Z",
     "start_time": "2024-10-28T03:24:50.382065Z"
    }
   },
   "cell_type": "code",
   "source": [
    "# read the refined data from the refined_shapes folder\n",
    "resampled_shape_data = []\n",
    "for dirpath, dirnames, filenames in os.walk(refinement_folder):\n",
    "    for file in filenames:\n",
    "        if file.endswith('.obj'):\n",
    "            # Get the full file path and add it to the list\n",
    "            full_path = dirpath + '/' + file\n",
    "            genre = file.split('~')[0]\n",
    "            shape_name = file.split('~')[1].split('.')[0]\n",
    "            shape_properties = analyze_shape(full_path)\n",
    "            resampled_shape_data.append({\n",
    "                'file_path': full_path,\n",
    "                'genre': genre,\n",
    "                'shape_name': shape_name,\n",
    "                'num_vertices': shape_properties[0],\n",
    "                'num_faces': shape_properties[1],\n",
    "                'face_types': shape_properties[2],\n",
    "                'bounding_box': shape_properties[3].tolist()\n",
    "            })"
   ],
   "id": "ae8960db32fb82bd",
   "outputs": [],
   "execution_count": 82
  },
  {
   "metadata": {
    "ExecuteTime": {
     "end_time": "2024-10-28T03:28:04.297451Z",
     "start_time": "2024-10-28T03:28:04.289452Z"
    }
   },
   "cell_type": "code",
   "source": [
    "# describe the vertices and faces in resampled_data \n",
    "vertices = [data['num_vertices'] for data in resampled_shape_data]\n",
    "faces = [data['num_faces'] for data in resampled_shape_data]\n",
    "print(f\"Vertices: Min: {min(vertices)}, Max: {max(vertices)}, Mean: {np.mean(vertices)}, Median: {np.median(vertices)}\")\n",
    "print(f\"Faces: Min: {min(faces)}, Max: {max(faces)}, Mean: {np.mean(faces)}, Median: {np.median(faces)}\")\n",
    "\n",
    "len([_ for _ in resampled_shape_data if _['num_vertices'] <= MIN_NUM_VERTICES])\n",
    "\n",
    "# print the file path of the shapes that have fewer vertices than the threshold\n",
    "for data in resampled_shape_data:\n",
    "    if data['num_vertices'] <= MIN_NUM_VERTICES:\n",
    "        print(data['file_path'])"
   ],
   "id": "5f5f6ae0e57b30e",
   "outputs": [
    {
     "name": "stdout",
     "output_type": "stream",
     "text": [
      "Vertices: Min: 8751, Max: 39890, Mean: 22078.08109382367, Median: 21072.0\n",
      "Faces: Min: 13808, Max: 430080, Mean: 55545.99905704856, Median: 45056.0\n",
      "./refined_shapes/Musical_Instrument~m633~refined.obj\n"
     ]
    }
   ],
   "execution_count": 83
  },
  {
   "metadata": {
    "ExecuteTime": {
     "end_time": "2024-10-28T03:29:01.730484Z",
     "start_time": "2024-10-28T03:29:01.677400Z"
    }
   },
   "cell_type": "code",
   "source": [
    "# replace the outliers data with the refined shapes data in shape_data\n",
    "shape_data_after_resampled = [data for data in shape_data if data not in outliers]\n",
    "shape_data_after_resampled.extend(resampled_shape_data)"
   ],
   "id": "c03a81e4eccb50c9",
   "outputs": [],
   "execution_count": 87
  },
  {
   "metadata": {
    "ExecuteTime": {
     "end_time": "2024-10-28T03:29:15.057883Z",
     "start_time": "2024-10-28T03:29:15.042868Z"
    }
   },
   "cell_type": "code",
   "source": [
    "len(shape_data_after_resampled)\n",
    "#len([e for e in shape_data_after_resampled if e['num_vertices'] <= MIN_NUM_VERTICES])"
   ],
   "id": "4d39921c97bc5205",
   "outputs": [
    {
     "data": {
      "text/plain": [
       "2483"
      ]
     },
     "execution_count": 89,
     "metadata": {},
     "output_type": "execute_result"
    }
   ],
   "execution_count": 89
  },
  {
   "metadata": {
    "ExecuteTime": {
     "end_time": "2024-10-28T03:29:16.909796Z",
     "start_time": "2024-10-28T03:29:16.811599Z"
    }
   },
   "cell_type": "code",
   "source": [
    "# Data preparation\n",
    "vertices = [data['num_vertices'] for data in shape_data_after_resampled]\n",
    "faces = [data['num_faces'] for data in shape_data_after_resampled]\n",
    "\n",
    "# show the histogram of the vertices\n",
    "plt.hist(vertices, bins=20, alpha=0.5, label='Vertices')\n",
    "# X axis label as Vertices\n",
    "plt.xlabel('Vertices')\n",
    "# Y axis label as Number of shapes\n",
    "plt.ylabel('Number of shapes')\n",
    "plt.show()\n",
    "\n",
    "\n",
    "\n",
    "# # Histogram plot\n",
    "# plt.hist(vertices, bins=20, alpha=0.5, label='Vertices')\n",
    "# plt.hist(faces, bins=20, alpha=0.5, label='Faces')\n",
    "# plt.legend(loc='upper right')                                                                                                                                                                                                                                                                                                            \n",
    "# plt.show()"
   ],
   "id": "7fa2b2214e1b023d",
   "outputs": [
    {
     "data": {
      "text/plain": [
       "<Figure size 640x480 with 1 Axes>"
      ],
      "image/png": "[encoded data removed]"
     },
     "metadata": {},
     "output_type": "display_data"
    }
   ],
   "execution_count": 90
  },
  {
   "metadata": {
    "ExecuteTime": {
     "end_time": "2024-10-28T03:29:19.197325Z",
     "start_time": "2024-10-28T03:29:19.112945Z"
    }
   },
   "cell_type": "code",
   "source": [
    "# show the histogram of the faces\n",
    "plt.hist(faces, bins=20, alpha=0.5, label='Faces')\n",
    "# X axis label as Faces\n",
    "plt.xlabel('Faces')\n",
    "# Y axis label as Number of shapes\n",
    "plt.ylabel('Number of shapes')\n",
    "plt.show()"
   ],
   "id": "bef77986f11bf880",
   "outputs": [
    {
     "data": {
      "text/plain": [
       "<Figure size 640x480 with 1 Axes>"
      ],
      "image/png": "[encoded data removed]"
     },
     "metadata": {},
     "output_type": "display_data"
    }
   ],
   "execution_count": 91
  },
  {
   "metadata": {
    "ExecuteTime": {
     "end_time": "2024-10-28T03:29:31.792498Z",
     "start_time": "2024-10-28T03:29:31.782649Z"
    }
   },
   "cell_type": "code",
   "source": [
    "# describe the vertices and faces\n",
    "vertices = [data['num_vertices'] for data in shape_data_after_resampled]\n",
    "faces = [data['num_faces'] for data in shape_data_after_resampled]\n",
    "print(f\"Vertices: Min: {min(vertices)}, Max: {max(vertices)}, Mean: {np.mean(vertices)}, Median: {np.median(vertices)}\")\n",
    "print(f\"Faces: Min: {min(faces)}, Max: {max(faces)}, Mean: {np.mean(faces)}, Median: {np.median(faces)}\")"
   ],
   "id": "da10c022a98d53ca",
   "outputs": [
    {
     "name": "stdout",
     "output_type": "stream",
     "text": [
      "Vertices: Min: 8751, Max: 73440, Mean: 21884.297623842125, Median: 20280.0\n",
      "Faces: Min: 4891, Max: 430080, Mean: 53070.053966975436, Median: 43008.0\n"
     ]
    }
   ],
   "execution_count": 92
  },
  {
   "metadata": {
    "ExecuteTime": {
     "end_time": "2024-10-28T02:00:28.662080Z",
     "start_time": "2024-10-28T02:00:28.615435Z"
    }
   },
   "cell_type": "code",
   "source": [
    "# save resampled data to a file\n",
    "# import json\n",
    "# with open('shape_data_after_resampled.json', 'w') as f:\n",
    "#     json.dump(shape_data_after_resampled, f)"
   ],
   "id": "2e1144222d0564d9",
   "outputs": [],
   "execution_count": 19
  },
  {
   "metadata": {
    "ExecuteTime": {
     "end_time": "2024-10-28T01:21:27.044915Z",
     "start_time": "2024-10-28T01:21:27.031397Z"
    }
   },
   "cell_type": "code",
   "source": [
    "# load the resampled data from the file\n",
    "# import json\n",
    "# with open('shape_data_after_resampled.json', 'r') as f:\n",
    "#     shape_data_after_resampled = json.load(f)"
   ],
   "id": "ef4cfcbb2fb940d5",
   "outputs": [],
   "execution_count": 7
  },
  {
   "metadata": {},
   "cell_type": "markdown",
   "source": "## Step 2.3.1: balance the classes",
   "id": "181a32d035d1f544"
  },
  {
   "cell_type": "code",
   "id": "faac64b8ea706926",
   "metadata": {
    "ExecuteTime": {
     "end_time": "2024-10-28T03:29:36.754908Z",
     "start_time": "2024-10-28T03:29:36.529638Z"
    }
   },
   "source": [
    "# check the number of each genre in the dataset\n",
    "# then plot the bar chart\n",
    "# then x-axis is the genre and y-axis is the number of shapes in that genre\n",
    "from collections import Counter\n",
    "genre_count = Counter([data['genre'] for data in shape_data_after_resampled])\n",
    "print(len(genre_count))\n",
    "plt.bar(genre_count.keys(), genre_count.values())\n",
    "# and the x-axis should be tilted 45 degrees\n",
    "plt.xticks(rotation=90)\n",
    "# and the x-axies fonr size should be 5\n",
    "plt.xticks(fontsize=5)\n",
    "# X AXIS LABEL AS geNRE\n",
    "plt.xlabel('Genre')\n",
    "# Y AXIS LABEL AS Number of shapes\n",
    "plt.ylabel('Number of shapes')\n",
    "# make the figure size bigger\n",
    "plt.show()"
   ],
   "outputs": [
    {
     "name": "stdout",
     "output_type": "stream",
     "text": [
      "69\n"
     ]
    },
    {
     "data": {
      "text/plain": [
       "<Figure size 640x480 with 1 Axes>"
      ],
      "image/png": "[encoded data removed]"
     },
     "metadata": {},
     "output_type": "display_data"
    }
   ],
   "execution_count": 93
  },
  {
   "cell_type": "code",
   "id": "aae9300aa04fee7d",
   "metadata": {
    "ExecuteTime": {
     "end_time": "2024-10-28T03:29:45.665595Z",
     "start_time": "2024-10-28T03:29:45.659936Z"
    }
   },
   "source": [
    "# find the median and avrage number of the genre_count\n",
    "import numpy as np\n",
    "median = np.median(list(genre_count.values()))\n",
    "average = np.mean(list(genre_count.values()))\n",
    "print(f\"Median: {median}, Average: {average}\")\n"
   ],
   "outputs": [
    {
     "name": "stdout",
     "output_type": "stream",
     "text": [
      "Median: 27.0, Average: 35.98550724637681\n"
     ]
    }
   ],
   "execution_count": 94
  },
  {
   "metadata": {
    "ExecuteTime": {
     "end_time": "2024-10-28T03:29:46.600270Z",
     "start_time": "2024-10-28T03:29:46.579949Z"
    }
   },
   "cell_type": "code",
   "source": [
    "# Choose the average number of shapes per genre as the threshold\n",
    "# for those genres that have fewer shapes than the threshold, we will upsample them\n",
    "# for those genres that have more shapes than the threshold, we will downsample them\n",
    "import random\n",
    "threshold = int(average)\n",
    "print(f\"Threshold: {threshold}\")\n",
    "# UP_SAMPLING_LIMITATION = threshold - 5\n",
    "# DOWN_SAMPLING_LIMITATION = threshold + 5\n",
    "\n",
    "# Resampling the data\n",
    "balanced_shape_data = []\n",
    "for genre, count in genre_count.items():\n",
    "    genre_data = [data for data in shape_data_after_resampled if data['genre'] == genre]\n",
    "    print(f\"Genre: {genre}, Count: {count}\")\n",
    "    if count >= threshold:\n",
    "        # 当计数大于下采样限制时，进行下采样\n",
    "        # 随机选择一部分数据\n",
    "        random.shuffle(genre_data)\n",
    "        balanced_shape_data.extend(genre_data[:threshold])\n",
    "    else:\n",
    "        # 如果在限制范围内，直接使用现有数据\n",
    "        balanced_shape_data.extend(genre_data)\n",
    "    # if count >= threshold:\n",
    "    #     # 当计数大于下采样限制时，进行下采样\n",
    "    #     # 随机选择一部分数据\n",
    "    #     random.shuffle(genre_data)\n",
    "    #     resampled_data.extend(genre_data[:threshold])\n",
    "    # if count < threshold:\n",
    "    #     random.shuffle(genre_data)\n",
    "    #     # 当计数小于上采样限制时，进行上采样\n",
    "    #     resampled_data.extend(genre_data * (threshold // count))\n",
    "    #     resampled_data.extend(genre_data[:threshold % count])\n",
    "    # else: \n",
    "    #     # 当计数大于下采样限制时，进行下采样\n",
    "    #     # 随机选择一部分数据\n",
    "    #     random.shuffle(genre_data)\n",
    "    #     resampled_data.extend(genre_data[:threshold])\n",
    "    # else:\n",
    "    #     # 如果在限制范围内，直接使用现有数据\n",
    "    #     resampled_data.extend(genre_data)\n"
   ],
   "id": "bf581c4564a3d0d7",
   "outputs": [
    {
     "name": "stdout",
     "output_type": "stream",
     "text": [
      "Threshold: 35\n",
      "Genre: AircraftBuoyant, Count: 16\n",
      "Genre: Apartment, Count: 23\n",
      "Genre: AquaticAnimal, Count: 29\n",
      "Genre: Bed, Count: 27\n",
      "Genre: Bicycle, Count: 26\n",
      "Genre: Biplane, Count: 45\n",
      "Genre: Bird, Count: 44\n",
      "Genre: Bottle, Count: 31\n",
      "Genre: BuildingNonResidential, Count: 44\n",
      "Genre: Bus, Count: 20\n",
      "Genre: Car, Count: 89\n",
      "Genre: Cellphone, Count: 20\n",
      "Genre: Chess, Count: 42\n",
      "Genre: City, Count: 27\n",
      "Genre: Computer, Count: 33\n",
      "Genre: Cup, Count: 30\n",
      "Genre: DeskLamp, Count: 31\n",
      "Genre: DeskPhone, Count: 20\n",
      "Genre: FloorLamp, Count: 28\n",
      "Genre: Glasses, Count: 20\n",
      "Genre: Guitar, Count: 20\n",
      "Genre: Gun, Count: 58\n",
      "Genre: Hand, Count: 37\n",
      "Genre: Helicopter, Count: 51\n",
      "Genre: House, Count: 46\n",
      "Genre: HumanHead, Count: 51\n",
      "Genre: Humanoid, Count: 142\n",
      "Genre: Insect, Count: 66\n",
      "Genre: MilitaryVehicle, Count: 20\n",
      "Genre: Monitor, Count: 20\n",
      "Genre: Motorcycle, Count: 26\n",
      "Genre: Mug, Count: 26\n",
      "Genre: MultiSeat, Count: 45\n",
      "Genre: Musical_Instrument, Count: 21\n",
      "Genre: NonWheelChair, Count: 60\n",
      "Genre: PlantIndoors, Count: 65\n",
      "Genre: PlantWildNonTree, Count: 27\n",
      "Genre: Quadruped, Count: 57\n",
      "Genre: RectangleTable, Count: 64\n",
      "Genre: Rocket, Count: 20\n",
      "Genre: RoundTable, Count: 37\n",
      "Genre: Ship, Count: 63\n",
      "Genre: Skyscraper, Count: 20\n",
      "Genre: Starship, Count: 31\n",
      "Genre: SubmachineGun, Count: 20\n",
      "Genre: Sword, Count: 53\n",
      "Genre: Train, Count: 30\n",
      "Genre: Tree, Count: 47\n",
      "Genre: Truck, Count: 27\n",
      "Genre: TruckNonContainer, Count: 20\n",
      "Genre: WheelChair, Count: 20\n",
      "Genre: Bookset, Count: 20\n",
      "Genre: ClassicPiano, Count: 20\n",
      "Genre: ComputerKeyboard, Count: 20\n",
      "Genre: Door, Count: 44\n",
      "Genre: Drum, Count: 20\n",
      "Genre: Fish, Count: 20\n",
      "Genre: Hat, Count: 15\n",
      "Genre: Jet, Count: 143\n",
      "Genre: Knife, Count: 27\n",
      "Genre: Monoplane, Count: 20\n",
      "Genre: PianoBoard, Count: 20\n",
      "Genre: Shelf, Count: 43\n",
      "Genre: Sign, Count: 15\n",
      "Genre: Spoon, Count: 20\n",
      "Genre: Tool, Count: 44\n",
      "Genre: Vase, Count: 20\n",
      "Genre: Violin, Count: 20\n",
      "Genre: Wheel, Count: 17\n"
     ]
    }
   ],
   "execution_count": 95
  },
  {
   "metadata": {
    "ExecuteTime": {
     "end_time": "2024-10-28T03:29:48.329052Z",
     "start_time": "2024-10-28T03:29:48.101354Z"
    }
   },
   "cell_type": "code",
   "source": [
    "balanced_shape_data_genre_count = Counter([data['genre'] for data in balanced_shape_data])\n",
    "\n",
    "plt.bar(balanced_shape_data_genre_count.keys(), balanced_shape_data_genre_count.values())\n",
    "# and the x-axis should be tilted 45 degrees\n",
    "plt.xticks(rotation=90)\n",
    "# and the x-axies fonr size should be 5\n",
    "plt.xticks(fontsize=5)\n",
    "# make the figure size bigger\n",
    "plt.show()"
   ],
   "id": "43f9bb6d074c0be2",
   "outputs": [
    {
     "data": {
      "text/plain": [
       "<Figure size 640x480 with 1 Axes>"
      ],
      "image/png": "[encoded data removed]"
     },
     "metadata": {},
     "output_type": "display_data"
    }
   ],
   "execution_count": 96
  },
  {
   "metadata": {
    "ExecuteTime": {
     "end_time": "2024-10-28T03:29:51.623983Z",
     "start_time": "2024-10-28T03:29:51.619475Z"
    }
   },
   "cell_type": "code",
   "source": "balanced_shape_data_genre_count",
   "id": "29024db9f63b7aec",
   "outputs": [
    {
     "data": {
      "text/plain": [
       "Counter({'AircraftBuoyant': 16,\n",
       "         'Apartment': 23,\n",
       "         'AquaticAnimal': 29,\n",
       "         'Bed': 27,\n",
       "         'Bicycle': 26,\n",
       "         'Biplane': 35,\n",
       "         'Bird': 35,\n",
       "         'Bottle': 31,\n",
       "         'BuildingNonResidential': 35,\n",
       "         'Bus': 20,\n",
       "         'Car': 35,\n",
       "         'Cellphone': 20,\n",
       "         'Chess': 35,\n",
       "         'City': 27,\n",
       "         'Computer': 33,\n",
       "         'Cup': 30,\n",
       "         'DeskLamp': 31,\n",
       "         'DeskPhone': 20,\n",
       "         'FloorLamp': 28,\n",
       "         'Glasses': 20,\n",
       "         'Guitar': 20,\n",
       "         'Gun': 35,\n",
       "         'Hand': 35,\n",
       "         'Helicopter': 35,\n",
       "         'House': 35,\n",
       "         'HumanHead': 35,\n",
       "         'Humanoid': 35,\n",
       "         'Insect': 35,\n",
       "         'MilitaryVehicle': 20,\n",
       "         'Monitor': 20,\n",
       "         'Motorcycle': 26,\n",
       "         'Mug': 26,\n",
       "         'MultiSeat': 35,\n",
       "         'Musical_Instrument': 21,\n",
       "         'NonWheelChair': 35,\n",
       "         'PlantIndoors': 35,\n",
       "         'PlantWildNonTree': 27,\n",
       "         'Quadruped': 35,\n",
       "         'RectangleTable': 35,\n",
       "         'Rocket': 20,\n",
       "         'RoundTable': 35,\n",
       "         'Ship': 35,\n",
       "         'Skyscraper': 20,\n",
       "         'Starship': 31,\n",
       "         'SubmachineGun': 20,\n",
       "         'Sword': 35,\n",
       "         'Train': 30,\n",
       "         'Tree': 35,\n",
       "         'Truck': 27,\n",
       "         'TruckNonContainer': 20,\n",
       "         'WheelChair': 20,\n",
       "         'Bookset': 20,\n",
       "         'ClassicPiano': 20,\n",
       "         'ComputerKeyboard': 20,\n",
       "         'Door': 35,\n",
       "         'Drum': 20,\n",
       "         'Fish': 20,\n",
       "         'Hat': 15,\n",
       "         'Jet': 35,\n",
       "         'Knife': 27,\n",
       "         'Monoplane': 20,\n",
       "         'PianoBoard': 20,\n",
       "         'Shelf': 35,\n",
       "         'Sign': 15,\n",
       "         'Spoon': 20,\n",
       "         'Tool': 35,\n",
       "         'Vase': 20,\n",
       "         'Violin': 20,\n",
       "         'Wheel': 17})"
      ]
     },
     "execution_count": 97,
     "metadata": {},
     "output_type": "execute_result"
    }
   ],
   "execution_count": 97
  },
  {
   "metadata": {
    "ExecuteTime": {
     "end_time": "2024-10-28T03:30:00.279380Z",
     "start_time": "2024-10-28T03:30:00.234511Z"
    }
   },
   "cell_type": "code",
   "source": [
    "# Save the resampled shape data to a file\n",
    "# import json\n",
    "# with open('balanced_resampled_data.json', 'w') as f:\n",
    "    # json.dump(balanced_shape_data, f)"
   ],
   "id": "d5fe9aedddf6dc7f",
   "outputs": [],
   "execution_count": 98
  },
  {
   "metadata": {
    "ExecuteTime": {
     "end_time": "2024-10-28T01:25:48.990206Z",
     "start_time": "2024-10-28T01:25:48.971830Z"
    }
   },
   "cell_type": "code",
   "outputs": [],
   "execution_count": 16,
   "source": [
    "# Load the shape data from the file\n",
    "import json\n",
    "with open('balanced_resampled_data.json', 'r') as f:\n",
    "    balanced_shape_data = json.load(f)"
   ],
   "id": "e8cda9fc7540dcf9"
  },
  {
   "metadata": {
    "ExecuteTime": {
     "end_time": "2024-10-28T03:30:09.151828Z",
     "start_time": "2024-10-28T03:30:09.133014Z"
    }
   },
   "cell_type": "code",
   "source": [
    "# describe the vertices and faces in balanced resampled data\n",
    "vertices = [data['num_vertices'] for data in balanced_shape_data]\n",
    "faces = [data['num_faces'] for data in balanced_shape_data]\n",
    "print(f\"Vertices: Min: {min(vertices)}, Max: {max(vertices)}, Mean: {np.mean(vertices)}, Median: {np.median(vertices)}\")\n",
    "print(f\"Faces: Min: {min(faces)}, Max: {max(faces)}, Mean: {np.mean(faces)}, Median: {np.median(faces)}\")"
   ],
   "id": "f534c6a1407a39f5",
   "outputs": [
    {
     "name": "stdout",
     "output_type": "stream",
     "text": [
      "Vertices: Min: 8751, Max: 73440, Mean: 21833.32907348243, Median: 20275.5\n",
      "Faces: Min: 4891, Max: 430080, Mean: 55891.87380191693, Median: 44032.0\n"
     ]
    }
   ],
   "execution_count": 99
  },
  {
   "metadata": {},
   "cell_type": "markdown",
   "source": "## Step 2.4: translated & scaled",
   "id": "eb0ec5b7ba10bc82"
  },
  {
   "metadata": {
    "ExecuteTime": {
     "end_time": "2024-10-28T03:30:15.945241Z",
     "start_time": "2024-10-28T03:30:15.940083Z"
    }
   },
   "cell_type": "code",
   "source": [
    "def translated_scaled_shape(_path):\n",
    "    _mesh = trimesh.load(_path)\n",
    "    previous_num_vertices = len(_mesh.vertices)\n",
    "\n",
    "    _centroid = _mesh.centroid\n",
    "    _mesh.vertices -= _centroid  # 平移到原点\n",
    "    _max_extent = _mesh.bounding_box.extents.max()  # 获取最大边长\n",
    "    if _max_extent > 0:\n",
    "        _mesh.vertices /= _max_extent  # 统一缩放\n",
    "    after_num_vertices = len(_mesh.vertices)\n",
    "    if previous_num_vertices != after_num_vertices:\n",
    "        print(f\"Before: {previous_num_vertices}, After: {after_num_vertices} \", _path)\n",
    "    return _mesh"
   ],
   "id": "82651031870b6f15",
   "outputs": [],
   "execution_count": 100
  },
  {
   "metadata": {
    "ExecuteTime": {
     "end_time": "2024-10-28T03:33:59.025585Z",
     "start_time": "2024-10-28T03:33:59.008879Z"
    }
   },
   "cell_type": "code",
   "source": [
    "# read the refined data's path from the refined_shapes folder\n",
    "refined_shape_data_paths = []\n",
    "for dirpath, dirnames, filenames in os.walk('./refined_shapes'):\n",
    "    for file in filenames:\n",
    "        if file.endswith('.obj'):\n",
    "            # Get the full file path and add it to the list\n",
    "            full_path = './ShapeDatabase_INFOMR-master/' + file.split('~')[0] + '/' + file.split('~')[1] + '.obj'\n",
    "            refined_shape_data_paths.append(full_path)\n",
    "            \n"
   ],
   "id": "36bc8d3b2994c004",
   "outputs": [],
   "execution_count": 102
  },
  {
   "metadata": {
    "ExecuteTime": {
     "end_time": "2024-10-28T03:34:02.279297Z",
     "start_time": "2024-10-28T03:34:02.273224Z"
    }
   },
   "cell_type": "code",
   "source": "len(refined_shape_data_paths)",
   "id": "d91f7dbbd73bbedf",
   "outputs": [
    {
     "data": {
      "text/plain": [
       "2121"
      ]
     },
     "execution_count": 103,
     "metadata": {},
     "output_type": "execute_result"
    }
   ],
   "execution_count": 103
  },
  {
   "metadata": {
    "ExecuteTime": {
     "end_time": "2024-10-28T03:42:12.117022Z",
     "start_time": "2024-10-28T03:37:13.081704Z"
    }
   },
   "cell_type": "code",
   "source": [
    "# save all the translated & scaled shapes to a folder\n",
    "\n",
    "# 1.create the genre folders\n",
    "genre_names = list(balanced_shape_data_genre_count.keys())\n",
    "for genre in genre_names:\n",
    "    os.makedirs(f'./translated_scaled/{genre}', exist_ok=False)\n",
    "    \n",
    "# 2.save the translated and scaled shapes to the genre folders\n",
    "for data in balanced_shape_data:\n",
    "    if data['file_path'] in refined_shape_data_paths:\n",
    "        mesh_path = './refined_shapes/' + data['genre'] + '_' + data['shape_name'] + '_refined.obj'\n",
    "    else: \n",
    "        mesh_path = data['file_path']\n",
    "    translated_scaled_mesh = translated_scaled_shape(mesh_path)\n",
    "    translated_scaled_mesh.export(f\"./translated_scaled/{data['genre']}/{data['shape_name']}.obj\")"
   ],
   "id": "48223a030b883cf6",
   "outputs": [],
   "execution_count": 104
  },
  {
   "metadata": {
    "ExecuteTime": {
     "end_time": "2024-10-28T03:44:30.544921Z",
     "start_time": "2024-10-28T03:44:30.520579Z"
    }
   },
   "cell_type": "code",
   "source": [
    "# 3.save the shape data to a file\n",
    "# Getting the properties of all the shapes\n",
    "translated_scaled_shape_data = []\n",
    "\n",
    "# Define the root folder where the search begins\n",
    "translated_scaled_shape_folder = './translated_scaled'\n",
    "\n",
    "# List to store all .obj file paths\n",
    "translated_scaled_obj_file_paths = []\n",
    "\n",
    "# Walk through the folder structure\n",
    "for dirpath, dirnames, filenames in os.walk(translated_scaled_shape_folder):\n",
    "    for file in filenames:\n",
    "        if file.endswith('.obj'):\n",
    "            # Get the full file path and add it to the list\n",
    "            full_path = os.path.join(dirpath, file)\n",
    "            translated_scaled_obj_file_paths.append(full_path)"
   ],
   "id": "f40e429e15340497",
   "outputs": [],
   "execution_count": 105
  },
  {
   "metadata": {
    "ExecuteTime": {
     "end_time": "2024-10-28T03:44:32.937228Z",
     "start_time": "2024-10-28T03:44:32.928492Z"
    }
   },
   "cell_type": "code",
   "source": "len(translated_scaled_obj_file_paths)",
   "id": "777a46266df2e38e",
   "outputs": [
    {
     "data": {
      "text/plain": [
       "1878"
      ]
     },
     "execution_count": 106,
     "metadata": {},
     "output_type": "execute_result"
    }
   ],
   "execution_count": 106
  },
  {
   "metadata": {
    "ExecuteTime": {
     "end_time": "2024-10-28T03:49:52.471060Z",
     "start_time": "2024-10-28T03:44:35.660322Z"
    }
   },
   "cell_type": "code",
   "source": [
    "# Print all .obj file paths                                                                                  \n",
    "for path in translated_scaled_obj_file_paths:\n",
    "    file_path = path.replace('\\\\', '/')\n",
    "    genre = file_path.split('/')[-2]\n",
    "    shape_name = file_path.split('/')[-1].split('.')[0]\n",
    "    shape_properties = analyze_shape(file_path)\n",
    "    translated_scaled_shape_data.append({\n",
    "        'file_path': file_path,\n",
    "        'genre': genre,\n",
    "        'shape_name': shape_name,\n",
    "        'num_vertices': shape_properties[0],\n",
    "        'num_faces': shape_properties[1],\n",
    "        'face_types': shape_properties[2],\n",
    "        'bounding_box': shape_properties[3].tolist(),\n",
    "        'centroid': trimesh.load(file_path).centroid.tolist(),\n",
    "    })"
   ],
   "id": "60f360d6b7dc4e44",
   "outputs": [],
   "execution_count": 107
  },
  {
   "metadata": {
    "ExecuteTime": {
     "end_time": "2024-10-28T03:49:59.232643Z",
     "start_time": "2024-10-28T03:49:59.229394Z"
    }
   },
   "cell_type": "code",
   "source": "len(translated_scaled_shape_data)",
   "id": "a53fc212048e0820",
   "outputs": [
    {
     "data": {
      "text/plain": [
       "1878"
      ]
     },
     "execution_count": 108,
     "metadata": {},
     "output_type": "execute_result"
    }
   ],
   "execution_count": 108
  },
  {
   "metadata": {
    "ExecuteTime": {
     "end_time": "2024-10-28T03:50:01.608963Z",
     "start_time": "2024-10-28T03:50:01.599489Z"
    }
   },
   "cell_type": "code",
   "source": [
    "# describe the vertices and faces in normalized shape data\n",
    "vertices = [data['num_vertices'] for data in translated_scaled_shape_data]\n",
    "faces = [data['num_faces'] for data in translated_scaled_shape_data]\n",
    "print(f\"Vertices: Min: {min(vertices)}, Max: {max(vertices)}, Mean: {np.mean(vertices)}, Median: {np.median(vertices)}\")\n",
    "print(f\"Faces: Min: {min(faces)}, Max: {max(faces)}, Mean: {np.mean(faces)}, Median: {np.median(faces)}\")"
   ],
   "id": "af646e5bf107c19f",
   "outputs": [
    {
     "name": "stdout",
     "output_type": "stream",
     "text": [
      "Vertices: Min: 8751, Max: 73440, Mean: 21829.51863684771, Median: 20275.5\n",
      "Faces: Min: 4891, Max: 430080, Mean: 55891.87380191693, Median: 44032.0\n"
     ]
    }
   ],
   "execution_count": 109
  },
  {
   "metadata": {
    "ExecuteTime": {
     "end_time": "2024-10-28T03:50:07.320688Z",
     "start_time": "2024-10-28T03:50:07.281942Z"
    }
   },
   "cell_type": "code",
   "source": [
    "with open('translation_shape_data.json', 'w') as f:\n",
    "    json.dump(translated_scaled_shape_data, f)"
   ],
   "id": "d443ee15d9181a65",
   "outputs": [],
   "execution_count": 110
  },
  {
   "metadata": {
    "ExecuteTime": {
     "end_time": "2024-10-14T21:19:08.141243Z",
     "start_time": "2024-10-14T21:18:35.848737Z"
    }
   },
   "cell_type": "code",
   "outputs": [],
   "execution_count": 35,
   "source": [
    "# check if the normalization works\n",
    "# condition 1: the centroid of the shape should be (0, 0, 0)\n",
    "# condition 2: the max extent of the shape should be 1\n",
    "# import numpy as np\n",
    "# \n",
    "# # 定义容差值\n",
    "# EPSILON = 0.5  # 根据需要调整\n",
    "# \n",
    "# # 假设 normalized_shape_data 是包含归一化后网格数据的列表\n",
    "# for data in normalized_shape_data:\n",
    "#     centroid = data['centroid']\n",
    "#     file_path = data['file_path']\n",
    "#     \n",
    "#     # 条件 1: 检查重心是否接近 (0, 0, 0)\n",
    "#     if not np.allclose(centroid, [0, 0, 0], atol=EPSILON):\n",
    "#         print(f\"Error: {file_path} 的重心 {centroid} 不接近 (0, 0, 0)\")\n",
    "#     \n",
    "#     # 加载归一化后的网格\n",
    "#     mesh = trimesh.load(file_path)\n",
    "#     \n",
    "#     # 条件 2: 检查最大边长是否接近 1\n",
    "#     max_extent = mesh.bounding_box.extents.max()\n",
    "#     if not np.isclose(max_extent, 1.0, atol=EPSILON):\n",
    "#         print(f\"Error: {file_path} 的最大边长 {max_extent} 不接近 1\")"
   ],
   "id": "fe1c5213589dbe1f"
  },
  {
   "metadata": {},
   "cell_type": "code",
   "outputs": [],
   "execution_count": null,
   "source": "",
   "id": "8d6385da-d510-4b8f-9b30-6e9ce91ea85c"
  },
  {
   "metadata": {},
   "cell_type": "markdown",
   "source": "# Step 3.1: Full Normalization",
   "id": "b2172d8e-f184-48a7-8b8a-08de2fa4656b"
  },
  {
   "cell_type": "code",
   "id": "8257735e-44ae-4abf-96e1-a7c01c799f52",
   "metadata": {
    "ExecuteTime": {
     "end_time": "2024-10-28T04:26:26.729555Z",
     "start_time": "2024-10-28T04:26:26.710979Z"
    }
   },
   "source": [
    "# Load the normalized shape data from the JSON file\n",
    "# import json\n",
    "# with open('translated_scaled_shape_data.json', 'r') as f:\n",
    "#     translated_scaled_shape_data = json.load(f)\n",
    "\n",
    "# Step 3.1: Full Normalization\n",
    "\n",
    "def normalize_shape(translated_scaled_mesh):\n",
    "    # Step 1: Compute PCA to get eigenvectors\n",
    "    pca = PCA(n_components=3)\n",
    "    pca.fit(translated_scaled_mesh.vertices)\n",
    "\n",
    "    # 获取前两个特征向量（主成分）\n",
    "    eigenvectors = pca.components_\n",
    "\n",
    "    # Step 2: Create a rotation matrix to align the first two eigenvectors with x and y axes\n",
    "    # 计算旋转矩阵\n",
    "    rotation_matrix = np.array([\n",
    "        eigenvectors[0],   # 第一主成分对齐到 x 轴\n",
    "        eigenvectors[1],   # 第二主成分对齐到 y 轴\n",
    "        np.cross(eigenvectors[0], eigenvectors[1])  # 第三主成分对齐到 z 轴\n",
    "    ])\n",
    "\n",
    "    # Step 3: Apply the rotation to the vertices\n",
    "    translated_scaled_mesh.vertices = translated_scaled_mesh.vertices @ rotation_matrix.T  # 应用旋转矩阵\n",
    "\n",
    "    # Step 4: Flipping - Use moment test to determine if flipping is necessary\n",
    "    for axis in range(3):\n",
    "        if np.sum(translated_scaled_mesh.vertices[:, axis] ** 3) < 0:\n",
    "            translated_scaled_mesh.vertices[:, axis] *= -1\n",
    "\n",
    "    return translated_scaled_mesh"
   ],
   "outputs": [],
   "execution_count": 122
  },
  {
   "cell_type": "code",
   "id": "9f7ee295-1907-417a-be25-c2b9d7cf6fed",
   "metadata": {
    "ExecuteTime": {
     "end_time": "2024-10-28T04:31:27.264320Z",
     "start_time": "2024-10-28T04:26:34.337958Z"
    }
   },
   "source": [
    "for data in translated_scaled_shape_data:  # Only select a few shapes for experimentation\n",
    "    try:\n",
    "        shape = trimesh.load(data['file_path'])\n",
    "        normalized_mesh = normalize_shape(shape)\n",
    "        # save the normalized mesh to the normalized_shapes folder\n",
    "        normalized_mesh.export(f\"E:/UU/00-MR-Organization/normalized_shapes/{data['genre']}~{data['shape_name']}~normalized.obj\")\n",
    "    except Exception as e:\n",
    "        print(f\"Error processing {data['file_path']}: {e}\")"
   ],
   "outputs": [],
   "execution_count": 123
  },
  {
   "metadata": {
    "ExecuteTime": {
     "end_time": "2024-10-28T04:34:22.365176Z",
     "start_time": "2024-10-28T04:31:39.106831Z"
    }
   },
   "cell_type": "code",
   "source": [
    "normalized_shape_data = []\n",
    "for dirpath, dirnames, filenames in os.walk('E:/UU/00-MR-Organization/normalized_shapes'):\n",
    "    for file in filenames:\n",
    "        if file.endswith('.obj'):\n",
    "            # Get the full file path and add it to the list\n",
    "            full_path = dirpath + '/' + file\n",
    "            genre = file.split('~')[0]\n",
    "            shape_name = file.split('~')[1]\n",
    "            shape_properties = analyze_shape(full_path)\n",
    "            normalized_shape_data.append({\n",
    "                'file_path': full_path,\n",
    "                'genre': genre,\n",
    "                'shape_name': shape_name,\n",
    "                'num_vertices': shape_properties[0],\n",
    "                'num_faces': shape_properties[1],\n",
    "                'face_types': shape_properties[2],\n",
    "                'bounding_box': shape_properties[3].tolist()\n",
    "            })"
   ],
   "id": "606abc07757d4ad6",
   "outputs": [],
   "execution_count": 124
  },
  {
   "metadata": {
    "ExecuteTime": {
     "end_time": "2024-10-28T04:34:32.083613Z",
     "start_time": "2024-10-28T04:34:32.066282Z"
    }
   },
   "cell_type": "code",
   "source": "len(normalized_shape_data)",
   "id": "abcdfc097b5e6a3d",
   "outputs": [
    {
     "data": {
      "text/plain": [
       "1878"
      ]
     },
     "execution_count": 125,
     "metadata": {},
     "output_type": "execute_result"
    }
   ],
   "execution_count": 125
  },
  {
   "metadata": {
    "ExecuteTime": {
     "end_time": "2024-10-28T04:34:35.777220Z",
     "start_time": "2024-10-28T04:34:35.771710Z"
    }
   },
   "cell_type": "code",
   "source": [
    "# describe the vertices and faces in normalized shape data\n",
    "vertices = [data['num_vertices'] for data in normalized_shape_data]\n",
    "faces = [data['num_faces'] for data in normalized_shape_data]\n",
    "print(f\"Vertices: Min: {min(vertices)}, Max: {max(vertices)}, Mean: {np.mean(vertices)}, Median: {np.median(vertices)}\")\n",
    "print(f\"Faces: Min: {min(faces)}, Max: {max(faces)}, Mean: {np.mean(faces)}, Median: {np.median(faces)}\")\n"
   ],
   "id": "ee91bd6010f5791d",
   "outputs": [
    {
     "name": "stdout",
     "output_type": "stream",
     "text": [
      "Vertices: Min: 8751, Max: 73440, Mean: 21829.504792332267, Median: 20275.5\n",
      "Faces: Min: 4891, Max: 430080, Mean: 55891.87380191693, Median: 44032.0\n"
     ]
    }
   ],
   "execution_count": 126
  },
  {
   "metadata": {
    "ExecuteTime": {
     "end_time": "2024-10-28T04:34:55.143580Z",
     "start_time": "2024-10-28T04:34:55.106148Z"
    }
   },
   "cell_type": "code",
   "source": [
    "# Save the normalized shape data to a file\n",
    "# import json\n",
    "# with open('normalized_shape_data.json', 'w') as f:\n",
    "#     json.dump(normalized_shape_data, f)"
   ],
   "id": "b9d3023dcc39a5b7",
   "outputs": [],
   "execution_count": 127
  },
  {
   "metadata": {},
   "cell_type": "code",
   "outputs": [],
   "execution_count": null,
   "source": [
    "# Load the normalized shape data from the JSON file\n",
    "import json\n",
    "with open('normalized_shape_data.json', 'r') as f:\n",
    "    normalized_shape_data = json.load(f)"
   ],
   "id": "b9270ed0db76dffa"
  },
  {
   "metadata": {},
   "cell_type": "markdown",
   "source": "# Step 3.2: Feature Extraction\n",
   "id": "28dd2fb2-9070-44c3-8c4d-e7b1b21a2396"
  },
  {
   "metadata": {
    "ExecuteTime": {
     "end_time": "2024-10-15T18:44:28.393111Z",
     "start_time": "2024-10-15T18:44:28.370784Z"
    }
   },
   "cell_type": "code",
   "outputs": [],
   "execution_count": 4,
   "source": [
    "def extract_features(mesh):\n",
    "    features = {}\n",
    "\n",
    "    # Elementary Descriptors\n",
    "    features['Surface Area'] = mesh.area\n",
    "    features['Compactness'] = (36 * np.pi * (mesh.volume ** 2)) / (mesh.area ** 3)  # Compactness with respect to a sphere\n",
    "    obb = mesh.bounding_box_oriented\n",
    "    features['3D Rectangularity'] = mesh.volume / obb.volume\n",
    "    features['Diameter'] = np.max(mesh.bounding_box.extents)\n",
    "    convex_hull = mesh.convex_hull\n",
    "    features['Convexity'] = mesh.volume / convex_hull.volume\n",
    "    covariance_matrix = np.cov(mesh.vertices, rowvar=False)\n",
    "    eigenvalues, _ = np.linalg.eigh(covariance_matrix)\n",
    "    features['Eccentricity'] = max(eigenvalues) / min(eigenvalues)\n",
    "\n",
    "    # Property Descriptors (using histograms)\n",
    "    num_samples = 1000\n",
    "    bins = 10  # Number of bins for the histogram\n",
    "\n",
    "    random_points = mesh.vertices[np.random.choice(mesh.vertices.shape[0], num_samples, replace=True)]\n",
    "\n",
    "    # A3: Angle between 3 random vertices\n",
    "    angles = []\n",
    "    for i in range(num_samples):\n",
    "        v1, v2, v3 = random_points[np.random.choice(num_samples, 3, replace=False)]\n",
    "        vec1 = v2 - v1\n",
    "        vec2 = v3 - v1\n",
    "        cos_theta = np.dot(vec1, vec2) / (np.linalg.norm(vec1) * np.linalg.norm(vec2))\n",
    "        if -1.0 <= cos_theta <= 1.0:  # Ensure valid range for arccos\n",
    "            angles.append(np.arccos(cos_theta))\n",
    "    features['A3'] = np.histogram(angles, bins=bins, range=(0, np.pi))[0]\n",
    "\n",
    "    # D1: Distance between barycenter and random vertex\n",
    "    barycenter = mesh.center_mass\n",
    "    distances = np.linalg.norm(random_points - barycenter, axis=1)\n",
    "    features['D1'] = np.histogram(distances, bins=bins)[0]\n",
    "\n",
    "    # D2: Distance between 2 random vertices\n",
    "    d2_distances = []\n",
    "    for i in range(num_samples // 2):\n",
    "        v1, v2 = random_points[np.random.choice(num_samples, 2, replace=False)]\n",
    "        d2_distances.append(np.linalg.norm(v1 - v2))\n",
    "    features['D2'] = np.histogram(d2_distances, bins=bins)[0]\n",
    "\n",
    "    # D3: Square root of area of triangle given by 3 random vertices\n",
    "    areas = []\n",
    "    for i in range(num_samples // 3):\n",
    "        v1, v2, v3 = random_points[np.random.choice(num_samples, 3, replace=False)]\n",
    "        if not np.allclose(np.cross(v2 - v1, v3 - v1), 0):  # Ensure points are not collinear\n",
    "            area = np.linalg.norm(np.cross(v2 - v1, v3 - v1)) / 2\n",
    "            areas.append(np.sqrt(area))\n",
    "    features['D3'] = np.histogram(areas, bins=bins)[0]\n",
    "\n",
    "    # D4: Cube root of volume of tetrahedron formed by 4 random vertices\n",
    "    volumes = []\n",
    "    for i in range(num_samples // 4):\n",
    "        retries = 0\n",
    "        while retries < 5:  # Try up to 5 times to find non-coplanar points\n",
    "            v1, v2, v3, v4 = random_points[np.random.choice(num_samples, 4, replace=False)]\n",
    "            volume = np.abs(np.dot(v4 - v1, np.cross(v2 - v1, v3 - v1))) / 6\n",
    "            if volume > 0:  # Ensure points are not coplanar\n",
    "                volumes.append(np.cbrt(volume))\n",
    "                break\n",
    "            retries += 1\n",
    "    features['D4'] = np.histogram(volumes, bins=bins)[0]\n",
    "\n",
    "    return features"
   ],
   "id": "a91a5e81-9e07-4c08-88b4-56e7c1866959"
  },
  {
   "metadata": {
    "ExecuteTime": {
     "end_time": "2024-10-15T18:50:14.305549Z",
     "start_time": "2024-10-15T18:50:14.254812Z"
    }
   },
   "cell_type": "code",
   "source": [
    "# compare to the original shape data to see which shapes are missing\n",
    "[shape['file_path'] for shape in normalized_shape_data if shape['file_path'] not in features_df['Shape File'].values]"
   ],
   "id": "26f78aadcbb6bdca",
   "outputs": [
    {
     "data": {
      "text/plain": [
       "['./normalized_database/Door/D01121.obj',\n",
       " './normalized_database/Door/m1708.obj',\n",
       " './normalized_database/Tree/m1097.obj',\n",
       " './normalized_database/Vase/m541.obj']"
      ]
     },
     "execution_count": 6,
     "metadata": {},
     "output_type": "execute_result"
    }
   ],
   "execution_count": 6
  },
  {
   "metadata": {
    "ExecuteTime": {
     "end_time": "2024-10-15T18:52:48.057710Z",
     "start_time": "2024-10-15T18:52:47.975113Z"
    }
   },
   "cell_type": "code",
   "source": [
    "# Save the features to a csv file\n",
    "# features_df.to_csv('shape_features.csv', index=False)\n",
    "\n",
    "# make the np.arry to list in all_features\n",
    "for feature in all_features:\n",
    "    for key in ['A3', 'D1', 'D2', 'D3', 'D4']:\n",
    "        feature[key] = feature[key].tolist()\n",
    "        \n",
    "    \n",
    "\n",
    "# Save the features to a json file\n",
    "import json\n",
    "with open('shape_features.json', 'w') as f:\n",
    "    json.dump(all_features, f)\n"
   ],
   "id": "c424fa7ee8c0d25c",
   "outputs": [],
   "execution_count": 9
  },
  {
   "metadata": {},
   "cell_type": "markdown",
   "source": "# Step 4 - Normalization Features and Create the Combined feature",
   "id": "b6b187064b3e726c"
  },
  {
   "metadata": {
    "ExecuteTime": {
     "end_time": "2024-10-15T18:53:51.195823Z",
     "start_time": "2024-10-15T18:53:51.187319Z"
    }
   },
   "cell_type": "code",
   "source": [
    "import pandas as pd\n",
    "import numpy as np\n",
    "from sklearn.preprocessing import StandardScaler, MinMaxScaler\n",
    "from sklearn.metrics.pairwise import cosine_similarity\n",
    "import ast\n",
    "import matplotlib.pyplot as plt"
   ],
   "id": "870b6bc2af9b0104",
   "outputs": [],
   "execution_count": 10
  },
  {
   "metadata": {
    "ExecuteTime": {
     "end_time": "2024-10-15T18:54:29.465949Z",
     "start_time": "2024-10-15T18:54:29.461940Z"
    }
   },
   "cell_type": "code",
   "source": [
    "# 标量特征列\n",
    "scalar_features = ['Surface Area', 'Compactness', '3D Rectangularity', 'Diameter', 'Convexity', 'Eccentricity']\n",
    "\n",
    "# 向量特征列\n",
    "vector_features = ['A3', 'D1', 'D2', 'D3', 'D4']"
   ],
   "id": "c6209d453d978f5a",
   "outputs": [],
   "execution_count": 11
  },
  {
   "metadata": {
    "ExecuteTime": {
     "end_time": "2024-10-15T18:54:30.900757Z",
     "start_time": "2024-10-15T18:54:30.894201Z"
    }
   },
   "cell_type": "code",
   "source": [
    "# 展平向量特征，并填充缺失的维度（假设所有向量长度相同）\n",
    "def flatten_vectors(row, vector_length=10):\n",
    "    flattened = []\n",
    "    for col in vector_features:\n",
    "        vec = row[col]\n",
    "        if len(vec) < vector_length:\n",
    "            vec = np.pad(vec, (0, vector_length - len(vec)), 'constant')\n",
    "        else:\n",
    "            vec = vec[:vector_length]\n",
    "        flattened.extend(vec)\n",
    "    return flattened"
   ],
   "id": "ab796b1c7eb62126",
   "outputs": [],
   "execution_count": 12
  },
  {
   "metadata": {
    "ExecuteTime": {
     "end_time": "2024-10-15T18:54:32.843416Z",
     "start_time": "2024-10-15T18:54:32.820499Z"
    }
   },
   "cell_type": "code",
   "source": [
    "# 加载特征数据\n",
    "# features_df = pd.read_csv('shape_features.csv')\n",
    "features_df = pd.read_json('shape_features.json')"
   ],
   "id": "b90c371e7b41201",
   "outputs": [],
   "execution_count": 13
  },
  {
   "metadata": {
    "ExecuteTime": {
     "end_time": "2024-10-15T18:54:35.257576Z",
     "start_time": "2024-10-15T18:54:35.223867Z"
    }
   },
   "cell_type": "code",
   "source": [
    "# 创建新的特征列\n",
    "features_df['combined_features'] = features_df.apply(flatten_vectors, axis=1)\n",
    "\n",
    "# 分离标量和向量特征\n",
    "X_scalar = features_df[scalar_features].values\n",
    "X_vector = np.stack(features_df['combined_features'].values)\n",
    "\n",
    "# 标准化标量特征\n",
    "scaler_standard = StandardScaler()\n",
    "X_scalar_standard = scaler_standard.fit_transform(X_scalar)\n",
    "\n",
    "# 最小-最大归一化标量特征\n",
    "scaler_minmax = MinMaxScaler()\n",
    "X_scalar_minmax = scaler_minmax.fit_transform(X_scalar)\n",
    "\n",
    "# 合并所有特征（这里以标准化为例）\n",
    "X_combined = np.hstack([X_scalar_standard, X_vector])"
   ],
   "id": "928059209abb6d1a",
   "outputs": [],
   "execution_count": 14
  },
  {
   "metadata": {
    "ExecuteTime": {
     "end_time": "2024-10-15T18:54:37.083422Z",
     "start_time": "2024-10-15T18:54:37.072904Z"
    }
   },
   "cell_type": "code",
   "source": [
    "# 创建包含归一化特征的新 DataFrame\n",
    "df_normalized = pd.DataFrame(X_combined, columns=[f'scalar_{i}' for i in range(X_scalar_standard.shape[1])] + \n",
    "                                                [f'vector_{i}' for i in range(X_vector.shape[1])])\n",
    "\n",
    "# 添加 Shape File 列（或其他标识列）\n",
    "df_normalized['Shape File'] = features_df['Shape File']\n",
    "\n",
    "\n",
    "# 显示前几行\n",
    "print(df_normalized.head())"
   ],
   "id": "30e2e6f750de0f9a",
   "outputs": [
    {
     "name": "stdout",
     "output_type": "stream",
     "text": [
      "   scalar_0   scalar_1  scalar_2  scalar_3  scalar_4  scalar_5  vector_0  \\\n",
      "0  -0.02697   1.957984  0.685726 -0.028376  0.928612 -0.168065      84.0   \n",
      "1  -0.02697   0.852699  0.659020 -0.028376  0.881600 -0.168339      86.0   \n",
      "2  -0.02697  -0.276542  0.002750 -0.028282  0.023719 -0.160142     200.0   \n",
      "3  -0.02697  14.599981  1.058650 -0.028329  1.821746 -0.131345     251.0   \n",
      "4  -0.02697   1.658418 -0.575961 -0.028357 -0.890028 -0.125738     327.0   \n",
      "\n",
      "   vector_1  vector_2  vector_3  ...  vector_41  vector_42  vector_43  \\\n",
      "0     181.0     215.0     175.0  ...        8.0       18.0       33.0   \n",
      "1     190.0     197.0     209.0  ...       17.0       25.0       40.0   \n",
      "2     173.0     155.0     120.0  ...       45.0       64.0       39.0   \n",
      "3     127.0     122.0     126.0  ...       61.0       47.0       45.0   \n",
      "4     128.0      91.0      95.0  ...       26.0       43.0       51.0   \n",
      "\n",
      "   vector_44  vector_45  vector_46  vector_47  vector_48  vector_49  \\\n",
      "0       40.0       52.0       46.0       36.0       11.0        2.0   \n",
      "1       44.0       51.0       45.0       16.0        8.0        1.0   \n",
      "2       35.0       14.0       15.0        2.0        5.0        3.0   \n",
      "3       32.0       14.0        9.0        4.0        0.0        1.0   \n",
      "4       46.0       44.0       17.0       11.0        5.0        3.0   \n",
      "\n",
      "                                        Shape File  \n",
      "0  ./normalized_database/AircraftBuoyant/m1337.obj  \n",
      "1  ./normalized_database/AircraftBuoyant/m1338.obj  \n",
      "2  ./normalized_database/AircraftBuoyant/m1339.obj  \n",
      "3  ./normalized_database/AircraftBuoyant/m1340.obj  \n",
      "4  ./normalized_database/AircraftBuoyant/m1341.obj  \n",
      "\n",
      "[5 rows x 57 columns]\n"
     ]
    }
   ],
   "execution_count": 15
  },
  {
   "metadata": {
    "ExecuteTime": {
     "end_time": "2024-10-15T18:54:50.019497Z",
     "start_time": "2024-10-15T18:54:49.978383Z"
    }
   },
   "cell_type": "code",
   "source": [
    "# 保存到新的 CSV 文件\n",
    "df_normalized.to_csv('normalized_features.csv', index=False)"
   ],
   "id": "44e4a8d662b8c934",
   "outputs": [],
   "execution_count": 16
  },
  {
   "metadata": {
    "ExecuteTime": {
     "end_time": "2024-10-15T18:54:51.701445Z",
     "start_time": "2024-10-15T18:54:51.684400Z"
    }
   },
   "cell_type": "code",
   "source": [
    "# 保存标准化器\n",
    "import joblib\n",
    "joblib.dump(scaler_standard, 'scaler_standard.pkl')"
   ],
   "id": "387dbd7164d5c6c3",
   "outputs": [
    {
     "data": {
      "text/plain": [
       "['scaler_standard.pkl']"
      ]
     },
     "execution_count": 17,
     "metadata": {},
     "output_type": "execute_result"
    }
   ],
   "execution_count": 17
  }
 ],
 "metadata": {
  "kernelspec": {
   "display_name": "Python 3 (ipykernel)",
   "language": "python",
   "name": "python3"
  },
  "language_info": {
   "codemirror_mode": {
    "name": "ipython",
    "version": 3
   },
   "file_extension": ".py",
   "mimetype": "text/x-python",
   "name": "python",
   "nbconvert_exporter": "python",
   "pygments_lexer": "ipython3",
   "version": "3.8.19"
  }
 },
 "nbformat": 4,
 "nbformat_minor": 5
}
