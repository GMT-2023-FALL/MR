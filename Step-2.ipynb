{
 "cells": [
  {
   "cell_type": "markdown",
   "id": "eca2f1e3f8522952",
   "metadata": {
    "collapsed": false,
    "editable": true,
    "jupyter": {
     "outputs_hidden": false
    },
    "slideshow": {
     "slide_type": ""
    },
    "tags": []
   },
   "source": [
    "# Step - 2"
   ]
  },
  {
   "cell_type": "markdown",
   "id": "e40c88ba59db48fb",
   "metadata": {
    "collapsed": false,
    "jupyter": {
     "outputs_hidden": false
    }
   },
   "source": [
    "## Preconditions"
   ]
  },
  {
   "cell_type": "markdown",
   "id": "206832b8a5d7a12d",
   "metadata": {
    "jp-MarkdownHeadingCollapsed": true
   },
   "source": [
    "### Install the required libraries\n",
    "```bash\n",
    "pip install -r requirements.txt\n",
    "```\n",
    "\n"
   ]
  },
  {
   "cell_type": "code",
   "execution_count": 1,
   "id": "7e3c4e1ddbc1aff0",
   "metadata": {
    "ExecuteTime": {
     "end_time": "2024-10-02T03:11:00.229015Z",
     "start_time": "2024-10-02T03:11:00.217017Z"
    },
    "collapsed": false,
    "editable": true,
    "jupyter": {
     "outputs_hidden": false
    },
    "slideshow": {
     "slide_type": ""
    },
    "tags": []
   },
   "outputs": [],
   "source": [
    "# Importing the required libraries\n",
    "import trimesh\n",
    "import os\n",
    "import matplotlib.pyplot as plt\n",
    "import json\n",
    "import numpy as np\n",
    "from sklearn.decomposition import PCA\n",
    "import pandas as pd"
   ]
  },
  {
   "cell_type": "markdown",
   "id": "ce1b79c5a9f0a2eb",
   "metadata": {
    "collapsed": false,
    "jp-MarkdownHeadingCollapsed": true,
    "jupyter": {
     "outputs_hidden": false
    }
   },
   "source": [
    "## Step 2.1: Analyzing a Single Shape"
   ]
  },
  {
   "cell_type": "code",
   "execution_count": 17,
   "id": "10ec98479dcff158",
   "metadata": {
    "ExecuteTime": {
     "end_time": "2024-10-02T00:38:25.093751Z",
     "start_time": "2024-10-02T00:38:25.088734Z"
    },
    "collapsed": false,
    "jupyter": {
     "outputs_hidden": false
    }
   },
   "outputs": [],
   "source": [
    "def analyze_shape(_file_path):\n",
    "    try:\n",
    "        mesh = trimesh.load(_file_path)\n",
    "        num_vertices = len(mesh.vertices)\n",
    "        num_faces = len(mesh.faces)\n",
    "        face_types = mesh.faces.shape[1]  # 3 for triangles, 4 for quads\n",
    "        bounding_box = mesh.bounding_box.extents\n",
    "        return num_vertices, num_faces, face_types, bounding_box\n",
    "    except Exception as e:\n",
    "        print(f\"Error processing {_file_path}: {e}\")\n",
    "        return None"
   ]
  },
  {
   "cell_type": "markdown",
   "id": "4e0eb4adb7262f7a",
   "metadata": {
    "collapsed": false,
    "jupyter": {
     "outputs_hidden": false
    }
   },
   "source": []
  },
  {
   "cell_type": "markdown",
   "id": "299334b8f4896be5",
   "metadata": {
    "collapsed": false,
    "editable": true,
    "jp-MarkdownHeadingCollapsed": true,
    "jupyter": {
     "outputs_hidden": false
    },
    "slideshow": {
     "slide_type": ""
    },
    "tags": []
   },
   "source": [
    "## Step 2.2: Statistics Over the Whole Database"
   ]
  },
  {
   "cell_type": "code",
   "execution_count": 18,
   "id": "5daf3c4733a634b7",
   "metadata": {
    "ExecuteTime": {
     "end_time": "2024-10-02T00:39:18.914107Z",
     "start_time": "2024-10-02T00:38:25.111271Z"
    },
    "collapsed": false,
    "jupyter": {
     "outputs_hidden": false
    }
   },
   "outputs": [],
   "source": [
    "# Getting the properties of all the shapes\n",
    "shape_data = []\n",
    "\n",
    "# Define the root folder where the search begins\n",
    "root_folder = './ShapeDatabase_INFOMR-master'\n",
    "\n",
    "# List to store all .obj file paths\n",
    "obj_file_paths = []\n",
    "\n",
    "# Walk through the folder structure\n",
    "for dirpath, dirnames, filenames in os.walk(root_folder):\n",
    "    for file in filenames:\n",
    "        if file.endswith('.obj'):\n",
    "            # Get the full file path and add it to the list\n",
    "            full_path = os.path.join(dirpath, file)\n",
    "            obj_file_paths.append(full_path)\n",
    "\n",
    "# Print all .obj file paths                                                                                  \n",
    "for path in obj_file_paths:\n",
    "    file_path = path.replace('\\\\', '/')\n",
    "    genre = file_path.split('/')[-2]\n",
    "    shape_name = file_path.split('/')[-1].split('.')[0]\n",
    "    shape_properties = analyze_shape(file_path)\n",
    "    shape_data.append({\n",
    "        'file_path': file_path,\n",
    "        'genre': genre,\n",
    "        'shape_name': shape_name,\n",
    "        'num_vertices': shape_properties[0],\n",
    "        'num_faces': shape_properties[1],\n",
    "        'face_types': shape_properties[2],\n",
    "        'bounding_box': shape_properties[3].tolist()\n",
    "    })"
   ]
  },
  {
   "cell_type": "code",
   "execution_count": 19,
   "id": "f95d344db5627d22",
   "metadata": {
    "ExecuteTime": {
     "end_time": "2024-10-02T00:39:18.961610Z",
     "start_time": "2024-10-02T00:39:18.947922Z"
    }
   },
   "outputs": [
    {
     "name": "stdout",
     "output_type": "stream",
     "text": [
      "Number of outliers: 95\n"
     ]
    }
   ],
   "source": [
    "# remove the outliers from the shape_data where num_vertices <= 100 or num_faces <= 100\n",
    "shape_data_filtered = [data for data in shape_data if data['num_vertices'] > 100 and data['num_faces'] > 100]\n",
    "print(f\"Number of outliers: {len(shape_data) - len(shape_data_filtered)}\")"
   ]
  },
  {
   "cell_type": "code",
   "execution_count": 20,
   "id": "7fa2b2214e1b023d",
   "metadata": {
    "ExecuteTime": {
     "end_time": "2024-10-02T00:39:19.115675Z",
     "start_time": "2024-10-02T00:39:18.983797Z"
    }
   },
   "outputs": [
    {
     "data": {
      "image/png": "[encoded data removed]",
      "text/plain": [
       "<Figure size 640x480 with 1 Axes>"
      ]
     },
     "metadata": {},
     "output_type": "display_data"
    }
   ],
   "source": [
    "# Data preparation\n",
    "vertices = [data['num_vertices'] for data in shape_data_filtered]\n",
    "faces = [data['num_faces'] for data in shape_data_filtered]\n",
    "\n",
    "# Histogram plot\n",
    "plt.hist(vertices, bins=20, alpha=0.5, label='Vertices')\n",
    "plt.hist(faces, bins=20, alpha=0.5, label='Faces')\n",
    "plt.legend(loc='upper right')                                                                                                                                                                                                                                                                                                            \n",
    "plt.show()"
   ]
  },
  {
   "cell_type": "code",
   "execution_count": 21,
   "id": "faac64b8ea706926",
   "metadata": {
    "ExecuteTime": {
     "end_time": "2024-10-02T00:39:19.379650Z",
     "start_time": "2024-10-02T00:39:19.148263Z"
    }
   },
   "outputs": [
    {
     "name": "stdout",
     "output_type": "stream",
     "text": [
      "69\n"
     ]
    },
    {
     "data": {
      "image/png": "[encoded data removed]",
      "text/plain": [
       "<Figure size 640x480 with 1 Axes>"
      ]
     },
     "metadata": {},
     "output_type": "display_data"
    }
   ],
   "source": [
    "# check the number of each genre in the dataset\n",
    "# then plot the bar chart\n",
    "# then x-axis is the genre and y-axis is the number of shapes in that genre\n",
    "from collections import Counter\n",
    "genre_count = Counter([data['genre'] for data in shape_data_filtered])\n",
    "print(len(genre_count))\n",
    "plt.bar(genre_count.keys(), genre_count.values())\n",
    "# and the x-axis should be tilted 45 degrees\n",
    "plt.xticks(rotation=90)\n",
    "# and the x-axies fonr size should be 5\n",
    "plt.xticks(fontsize=5)\n",
    "# make the figure size bigger\n",
    "plt.show()"
   ]
  },
  {
   "cell_type": "code",
   "execution_count": 22,
   "id": "aae9300aa04fee7d",
   "metadata": {
    "ExecuteTime": {
     "end_time": "2024-10-02T01:37:24.480658Z",
     "start_time": "2024-10-02T01:37:24.462639Z"
    },
    "editable": true,
    "slideshow": {
     "slide_type": ""
    },
    "tags": []
   },
   "outputs": [
    {
     "name": "stdout",
     "output_type": "stream",
     "text": [
      "Median: 27.0, Average: 34.608695652173914\n"
     ]
    }
   ],
   "source": [
    "# find the median and avrage number of the genre_count\n",
    "import numpy as np\n",
    "median = np.median(list(genre_count.values()))\n",
    "average = np.mean(list(genre_count.values()))\n",
    "print(f\"Median: {median}, Average: {average}\")\n"
   ]
  },
  {
   "cell_type": "code",
   "execution_count": null,
   "id": "75d53d7f-2440-4c02-8714-6d2872976fff",
   "metadata": {
    "editable": true,
    "slideshow": {
     "slide_type": ""
    },
    "tags": []
   },
   "outputs": [],
   "source": [
    "def resample_mesh(mesh):\n",
    "    if len(mesh.vertices) < 100 or len(mesh.faces) < 100:\n",
    "        # Refine the mesh by subdividing large faces\n",
    "        mesh = mesh.subdivide()\n",
    "    return mesh\n",
    "\n",
    "# Apply resampling to outlier shapes\n",
    "for mesh_file in shape_files:\n",
    "    mesh = trimesh.load(mesh_file)\n",
    "    refined_mesh = resample_mesh(mesh)\n",
    "    refined_mesh.export('path_to_save/refined_' + mesh_file)\n"
   ]
  },
  {
   "cell_type": "markdown",
   "id": "4d92472f-1bf6-4dbf-a511-fa3c429bafcc",
   "metadata": {
    "editable": true,
    "jp-MarkdownHeadingCollapsed": true,
    "slideshow": {
     "slide_type": ""
    },
    "tags": []
   },
   "source": [
    "## 2.3 Resampling Data"
   ]
  },
  {
   "cell_type": "code",
   "execution_count": 23,
   "id": "bf581c4564a3d0d7",
   "metadata": {
    "ExecuteTime": {
     "end_time": "2024-10-02T02:43:03.412765Z",
     "start_time": "2024-10-02T02:43:03.392008Z"
    },
    "editable": true,
    "slideshow": {
     "slide_type": ""
    },
    "tags": []
   },
   "outputs": [
    {
     "name": "stdout",
     "output_type": "stream",
     "text": [
      "Threshold: 34\n"
     ]
    }
   ],
   "source": [
    "# Choose the average number of shapes per genre as the threshold\n",
    "# for those genres that have fewer shapes than the threshold, we will upsample them\n",
    "# for those genres that have more shapes than the threshold, we will downsample them\n",
    "import random\n",
    "threshold = int(average)\n",
    "print(f\"Threshold: {threshold}\")\n",
    "# UP_SAMPLING_LIMITATION = threshold - 5\n",
    "# DOWN_SAMPLING_LIMITATION = threshold + 5\n",
    "\n",
    "# Resampling the data\n",
    "resampled_data = []\n",
    "for genre, count in genre_count.items():\n",
    "    genre_data = [data for data in shape_data_filtered if data['genre'] == genre]\n",
    "    if count < threshold:\n",
    "        random.shuffle(genre_data)\n",
    "        # 当计数小于上采样限制时，进行上采样\n",
    "        resampled_data.extend(genre_data * (threshold // count))\n",
    "        resampled_data.extend(genre_data[:threshold % count])\n",
    "    elif count >= threshold:\n",
    "        # 当计数大于下采样限制时，进行下采样\n",
    "        # 随机选择一部分数据\n",
    "        random.shuffle(genre_data)\n",
    "        resampled_data.extend(genre_data[:threshold])\n",
    "    # else:\n",
    "    #     # 如果在限制范围内，直接使用现有数据\n",
    "    #     resampled_data.extend(genre_data)\n"
   ]
  },
  {
   "cell_type": "code",
   "execution_count": 24,
   "id": "43f9bb6d074c0be2",
   "metadata": {
    "ExecuteTime": {
     "end_time": "2024-10-02T02:43:06.054815Z",
     "start_time": "2024-10-02T02:43:05.829303Z"
    }
   },
   "outputs": [
    {
     "data": {
      "image/png": "[encoded data removed]",
      "text/plain": [
       "<Figure size 640x480 with 1 Axes>"
      ]
     },
     "metadata": {},
     "output_type": "display_data"
    }
   ],
   "source": [
    "resmapled_genre_count = Counter([data['genre'] for data in resampled_data])\n",
    "\n",
    "plt.bar(resmapled_genre_count.keys(), resmapled_genre_count.values())\n",
    "# and the x-axis should be tilted 45 degrees\n",
    "plt.xticks(rotation=90)\n",
    "# and the x-axies fonr size should be 5\n",
    "plt.xticks(fontsize=5)\n",
    "# make the figure size bigger\n",
    "plt.show()"
   ]
  },
  {
   "cell_type": "code",
   "execution_count": 25,
   "id": "29024db9f63b7aec",
   "metadata": {
    "ExecuteTime": {
     "end_time": "2024-10-02T02:43:09.549253Z",
     "start_time": "2024-10-02T02:43:09.535007Z"
    }
   },
   "outputs": [
    {
     "data": {
      "text/plain": [
       "Counter({'AircraftBuoyant': 34,\n",
       "         'Apartment': 34,\n",
       "         'AquaticAnimal': 34,\n",
       "         'Bed': 34,\n",
       "         'Bicycle': 34,\n",
       "         'Biplane': 34,\n",
       "         'Bird': 34,\n",
       "         'Bookset': 34,\n",
       "         'Bottle': 34,\n",
       "         'BuildingNonResidential': 34,\n",
       "         'Bus': 34,\n",
       "         'Car': 34,\n",
       "         'Cellphone': 34,\n",
       "         'Chess': 34,\n",
       "         'City': 34,\n",
       "         'ClassicPiano': 34,\n",
       "         'Computer': 34,\n",
       "         'ComputerKeyboard': 34,\n",
       "         'Cup': 34,\n",
       "         'DeskLamp': 34,\n",
       "         'DeskPhone': 34,\n",
       "         'Door': 34,\n",
       "         'Drum': 34,\n",
       "         'Fish': 34,\n",
       "         'FloorLamp': 34,\n",
       "         'Glasses': 34,\n",
       "         'Guitar': 34,\n",
       "         'Gun': 34,\n",
       "         'Hand': 34,\n",
       "         'Hat': 34,\n",
       "         'Helicopter': 34,\n",
       "         'House': 34,\n",
       "         'HumanHead': 34,\n",
       "         'Humanoid': 34,\n",
       "         'Insect': 34,\n",
       "         'Jet': 34,\n",
       "         'Knife': 34,\n",
       "         'MilitaryVehicle': 34,\n",
       "         'Monitor': 34,\n",
       "         'Monoplane': 34,\n",
       "         'Motorcycle': 34,\n",
       "         'Mug': 34,\n",
       "         'MultiSeat': 34,\n",
       "         'Musical_Instrument': 34,\n",
       "         'NonWheelChair': 34,\n",
       "         'PianoBoard': 34,\n",
       "         'PlantIndoors': 34,\n",
       "         'PlantWildNonTree': 34,\n",
       "         'Quadruped': 34,\n",
       "         'RectangleTable': 34,\n",
       "         'Rocket': 34,\n",
       "         'RoundTable': 34,\n",
       "         'Shelf': 34,\n",
       "         'Ship': 34,\n",
       "         'Sign': 34,\n",
       "         'Skyscraper': 34,\n",
       "         'Spoon': 34,\n",
       "         'Starship': 34,\n",
       "         'SubmachineGun': 34,\n",
       "         'Sword': 34,\n",
       "         'Tool': 34,\n",
       "         'Train': 34,\n",
       "         'Tree': 34,\n",
       "         'Truck': 34,\n",
       "         'TruckNonContainer': 34,\n",
       "         'Vase': 34,\n",
       "         'Violin': 34,\n",
       "         'Wheel': 34,\n",
       "         'WheelChair': 34})"
      ]
     },
     "execution_count": 25,
     "metadata": {},
     "output_type": "execute_result"
    }
   ],
   "source": [
    "resmapled_genre_count"
   ]
  },
  {
   "cell_type": "code",
   "execution_count": 26,
   "id": "d5fe9aedddf6dc7f",
   "metadata": {
    "ExecuteTime": {
     "end_time": "2024-10-02T02:43:26.138574Z",
     "start_time": "2024-10-02T02:43:26.099293Z"
    }
   },
   "outputs": [],
   "source": [
    "# Save the shape data to a file\n",
    "# import json\n",
    "# with open('shape_data.json', 'w') as f:\n",
    "#     json.dump(resampled_data, f)"
   ]
  },
  {
   "cell_type": "code",
   "execution_count": 27,
   "id": "e8cda9fc7540dcf9",
   "metadata": {
    "ExecuteTime": {
     "end_time": "2024-10-02T02:02:10.939530Z",
     "start_time": "2024-10-02T02:02:10.920140Z"
    }
   },
   "outputs": [],
   "source": [
    "# Load the shape data from the file\n",
    "# import json\n",
    "# with open('shape_data.json', 'r') as f:\n",
    "#     resampled_data = json.load(f)"
   ]
  },
  {
   "cell_type": "markdown",
   "id": "eb0ec5b7ba10bc82",
   "metadata": {
    "editable": true,
    "jp-MarkdownHeadingCollapsed": true,
    "slideshow": {
     "slide_type": ""
    },
    "tags": []
   },
   "source": [
    "## Step 2.4: Normalizing shapes"
   ]
  },
  {
   "cell_type": "code",
   "execution_count": 28,
   "id": "82651031870b6f15",
   "metadata": {
    "ExecuteTime": {
     "end_time": "2024-10-02T02:54:39.951533Z",
     "start_time": "2024-10-02T02:54:39.936958Z"
    },
    "editable": true,
    "slideshow": {
     "slide_type": ""
    },
    "tags": []
   },
   "outputs": [],
   "source": [
    "def normalize_shape(_mesh):\n",
    "    centroid = mesh.centroid\n",
    "    mesh.vertices -= centroid  # 平移到原点\n",
    "    max_extent = mesh.bounding_box.extents.max()  # 获取最大边长\n",
    "    if max_extent > 0:\n",
    "        mesh.vertices /= max_extent  # 统一缩放\n",
    "    return mesh"
   ]
  },
  {
   "cell_type": "code",
   "execution_count": 3,
   "id": "48223a030b883cf6",
   "metadata": {
    "ExecuteTime": {
     "end_time": "2024-10-02T02:57:22.365249Z",
     "start_time": "2024-10-02T02:54:44.283034Z"
    },
    "editable": true,
    "slideshow": {
     "slide_type": ""
    },
    "tags": []
   },
   "outputs": [
    {
     "ename": "NameError",
     "evalue": "name 'resmapled_genre_count' is not defined",
     "output_type": "error",
     "traceback": [
      "\u001b[1;31m---------------------------------------------------------------------------\u001b[0m",
      "\u001b[1;31mNameError\u001b[0m                                 Traceback (most recent call last)",
      "Cell \u001b[1;32mIn[3], line 4\u001b[0m\n\u001b[0;32m      1\u001b[0m \u001b[38;5;66;03m# save all the normalized shapes to a folder\u001b[39;00m\n\u001b[0;32m      2\u001b[0m \n\u001b[0;32m      3\u001b[0m \u001b[38;5;66;03m# 1.create the genre folders\u001b[39;00m\n\u001b[1;32m----> 4\u001b[0m genre_names \u001b[38;5;241m=\u001b[39m \u001b[38;5;28mlist\u001b[39m(resmapled_genre_count\u001b[38;5;241m.\u001b[39mkeys())\n\u001b[0;32m      5\u001b[0m \u001b[38;5;28;01mfor\u001b[39;00m genre \u001b[38;5;129;01min\u001b[39;00m genre_names:\n\u001b[0;32m      6\u001b[0m     os\u001b[38;5;241m.\u001b[39mmakedirs(\u001b[38;5;124mf\u001b[39m\u001b[38;5;124m'\u001b[39m\u001b[38;5;124m./normalized_database/\u001b[39m\u001b[38;5;132;01m{\u001b[39;00mgenre\u001b[38;5;132;01m}\u001b[39;00m\u001b[38;5;124m'\u001b[39m, exist_ok\u001b[38;5;241m=\u001b[39m\u001b[38;5;28;01mFalse\u001b[39;00m)\n",
      "\u001b[1;31mNameError\u001b[0m: name 'resmapled_genre_count' is not defined"
     ]
    }
   ],
   "source": [
    "# save all the normalized shapes to a folder\n",
    "\n",
    "# 1.create the genre folders\n",
    "genre_names = list(resmapled_genre_count.keys())\n",
    "for genre in genre_names:\n",
    "    os.makedirs(f'./normalized_database/{genre}', exist_ok=False)\n",
    "    \n",
    "# 2.save the normalized shapes to the genre folders\n",
    "for data in resampled_data:\n",
    "    mesh = trimesh.load(data['file_path'])\n",
    "    normalized_mesh = normalize_shape(mesh)\n",
    "    normalized_mesh.export(f\"./normalized_database/{data['genre']}/{data['shape_name']}.obj\")\n",
    "    \n",
    "# 3.save the shape data to a file\n",
    "# Getting the properties of all the shapes\n",
    "normalized_shape_data = []\n",
    "\n",
    "# Define the root folder where the search begins\n",
    "normalized_shape_folder = './normalized_database'\n",
    "\n",
    "# List to store all .obj file paths\n",
    "normalized_obj_file_paths = []\n",
    "\n",
    "# Walk through the folder structure\n",
    "for dirpath, dirnames, filenames in os.walk(normalized_shape_folder):\n",
    "    for file in filenames:\n",
    "        if file.endswith('.obj'):\n",
    "            # Get the full file path and add it to the list\n",
    "            full_path = os.path.join(dirpath, file)\n",
    "            normalized_obj_file_paths.append(full_path)\n",
    "\n",
    "# Print all .obj file paths                                                                                  \n",
    "for path in normalized_obj_file_paths:\n",
    "    file_path = path.replace('\\\\', '/')\n",
    "    genre = file_path.split('/')[-2]\n",
    "    shape_name = file_path.split('/')[-1].split('.')[0]\n",
    "    shape_properties = analyze_shape(file_path)\n",
    "    normalized_shape_data.append({\n",
    "        'file_path': file_path,\n",
    "        'genre': genre,\n",
    "        'shape_name': shape_name,\n",
    "        'num_vertices': shape_properties[0],\n",
    "        'num_faces': shape_properties[1],\n",
    "        'face_types': shape_properties[2],\n",
    "        'bounding_box': shape_properties[3].tolist(),\n",
    "        'centroid': trimesh.load(file_path).centroid.tolist(),\n",
    "    })\n",
    "\n",
    "with open('normalized_shape_data.json', 'w') as f:\n",
    "    json.dump(normalized_shape_data, f)\n"
   ]
  },
  {
   "cell_type": "code",
   "execution_count": 5,
   "id": "fe1c5213589dbe1f",
   "metadata": {
    "ExecuteTime": {
     "end_time": "2024-10-02T02:58:34.417417Z",
     "start_time": "2024-10-02T02:58:03.263803Z"
    }
   },
   "outputs": [
    {
     "ename": "NameError",
     "evalue": "name 'normalized_shape_data' is not defined",
     "output_type": "error",
     "traceback": [
      "\u001b[1;31m---------------------------------------------------------------------------\u001b[0m",
      "\u001b[1;31mNameError\u001b[0m                                 Traceback (most recent call last)",
      "Cell \u001b[1;32mIn[5], line 10\u001b[0m\n\u001b[0;32m      7\u001b[0m EPSILON \u001b[38;5;241m=\u001b[39m \u001b[38;5;241m0.5\u001b[39m  \u001b[38;5;66;03m# 根据需要调整\u001b[39;00m\n\u001b[0;32m      9\u001b[0m \u001b[38;5;66;03m# 假设 normalized_shape_data 是包含归一化后网格数据的列表\u001b[39;00m\n\u001b[1;32m---> 10\u001b[0m \u001b[38;5;28;01mfor\u001b[39;00m data \u001b[38;5;129;01min\u001b[39;00m normalized_shape_data:\n\u001b[0;32m     11\u001b[0m     centroid \u001b[38;5;241m=\u001b[39m data[\u001b[38;5;124m'\u001b[39m\u001b[38;5;124mcentroid\u001b[39m\u001b[38;5;124m'\u001b[39m]\n\u001b[0;32m     12\u001b[0m     file_path \u001b[38;5;241m=\u001b[39m data[\u001b[38;5;124m'\u001b[39m\u001b[38;5;124mfile_path\u001b[39m\u001b[38;5;124m'\u001b[39m]\n",
      "\u001b[1;31mNameError\u001b[0m: name 'normalized_shape_data' is not defined"
     ]
    }
   ],
   "source": [
    "# check if the normalization works\n",
    "# condition 1: the centroid of the shape should be (0, 0, 0)\n",
    "# condition 2: the max extent of the shape should be 1\n",
    "import numpy as np\n",
    "\n",
    "# 定义容差值\n",
    "EPSILON = 0.5  # 根据需要调整\n",
    "\n",
    "# 假设 normalized_shape_data 是包含归一化后网格数据的列表\n",
    "for data in normalized_shape_data:\n",
    "    centroid = data['centroid']\n",
    "    file_path = data['file_path']\n",
    "    \n",
    "    # 条件 1: 检查重心是否接近 (0, 0, 0)\n",
    "    if not np.allclose(centroid, [0, 0, 0], atol=EPSILON):\n",
    "        print(f\"Error: {file_path} 的重心 {centroid} 不接近 (0, 0, 0)\")\n",
    "    \n",
    "    # 加载归一化后的网格\n",
    "    mesh = trimesh.load(file_path)\n",
    "    \n",
    "    # 条件 2: 检查最大边长是否接近 1\n",
    "    max_extent = mesh.bounding_box.extents.max()\n",
    "    if not np.isclose(max_extent, 1.0, atol=EPSILON):\n",
    "        print(f\"Error: {file_path} 的最大边长 {max_extent} 不接近 1\")"
   ]
  },
  {
   "cell_type": "markdown",
   "id": "ad5031f8-ae76-4963-9f7d-3ebd7c5cc268",
   "metadata": {
    "editable": true,
    "slideshow": {
     "slide_type": ""
    },
    "tags": []
   },
   "source": [
    "# Step 2 (New)"
   ]
  },
  {
   "cell_type": "code",
   "execution_count": 6,
   "id": "5465d3bd-2d99-4a7b-a8f7-036391dac8e7",
   "metadata": {
    "editable": true,
    "slideshow": {
     "slide_type": ""
    },
    "tags": []
   },
   "outputs": [
    {
     "data": {
      "image/png": "[encoded data removed]",
      "text/plain": [
       "<Figure size 640x480 with 1 Axes>"
      ]
     },
     "metadata": {},
     "output_type": "display_data"
    },
    {
     "data": {
      "image/png": "[encoded data removed]",
      "text/plain": [
       "<Figure size 640x480 with 1 Axes>"
      ]
     },
     "metadata": {},
     "output_type": "display_data"
    }
   ],
   "source": [
    "# Importing the required libraries\n",
    "import trimesh\n",
    "import os\n",
    "import numpy as np\n",
    "import pandas as pd\n",
    "import matplotlib.pyplot as plt\n",
    "\n",
    "# Step 2.1: Analyzing a Single Shape\n",
    "def analyze_shape(_file_path):\n",
    "    try:\n",
    "        mesh = trimesh.load(_file_path)\n",
    "        num_vertices = len(mesh.vertices)\n",
    "        num_faces = len(mesh.faces)\n",
    "        face_types = \"mixed\"\n",
    "        if np.all(mesh.faces.shape[1] == 3):\n",
    "            face_types = \"triangles\"\n",
    "        elif np.all(mesh.faces.shape[1] == 4):\n",
    "            face_types = \"quads\"\n",
    "        bounding_box = mesh.bounding_box.extents\n",
    "        return num_vertices, num_faces, face_types, bounding_box\n",
    "    except Exception as e:\n",
    "        print(f\"Error processing {_file_path}: {e}\")\n",
    "        return None\n",
    "\n",
    "# Step 2.2: Statistics Over the Whole Database\n",
    "shape_data = []\n",
    "root_folder = './ShapeDatabase_INFOMR-master'\n",
    "obj_file_paths = []\n",
    "\n",
    "# Walk through the folder structure to collect all .obj file paths\n",
    "for dirpath, dirnames, filenames in os.walk(root_folder):\n",
    "    for file in filenames:\n",
    "        if file.endswith('.obj'):\n",
    "            full_path = os.path.join(dirpath, file)\n",
    "            obj_file_paths.append(full_path)\n",
    "\n",
    "# Analyze each shape and collect properties\n",
    "for path in obj_file_paths:\n",
    "    file_path = path.replace('\\\\', '/')\n",
    "    genre = file_path.split('/')[-2]\n",
    "    shape_name = file_path.split('/')[-1].split('.')[0]\n",
    "    shape_properties = analyze_shape(file_path)\n",
    "    if shape_properties:\n",
    "        shape_data.append({\n",
    "            'file_path': file_path,\n",
    "            'genre': genre,\n",
    "            'shape_name': shape_name,\n",
    "            'num_vertices': shape_properties[0],\n",
    "            'num_faces': shape_properties[1],\n",
    "            'face_types': shape_properties[2],\n",
    "            'bounding_box': shape_properties[3]\n",
    "        })\n",
    "\n",
    "# # Save shape data to JSON for statistics\n",
    "# with open('shape_statistics.json', 'w') as json_file:\n",
    "#     json.dump(shape_data, json_file, indent=4)\n",
    "\n",
    "# Save shape data to DataFrame and CSV for statistics\n",
    "shape_df = pd.DataFrame(shape_data)\n",
    "shape_df.to_csv('shape_statistics.csv', index=False)\n",
    "\n",
    "# Calculate averages and find outliers\n",
    "avg_vertices = shape_df['num_vertices'].mean()\n",
    "avg_faces = shape_df['num_faces'].mean()\n",
    "outliers = shape_df[(shape_df['num_vertices'] < 100) | (shape_df['num_faces'] < 100)]\n",
    "\n",
    "# Plot histograms\n",
    "plt.figure()\n",
    "plt.hist(shape_df['num_vertices'], bins=30, alpha=0.7)\n",
    "plt.xlabel('Number of Vertices')\n",
    "plt.ylabel('Count')\n",
    "plt.title('Distribution of Number of Vertices')\n",
    "plt.show()\n",
    "\n",
    "plt.figure()\n",
    "plt.hist(shape_df['num_faces'], bins=30, alpha=0.7)\n",
    "plt.xlabel('Number of Faces')\n",
    "plt.ylabel('Count')\n",
    "plt.title('Distribution of Number of Faces')\n",
    "plt.show()\n",
    "\n",
    "# Step 2.3: Resampling Outliers\n",
    "def refine_mesh(mesh, target_faces=500):\n",
    "    while len(mesh.faces) < target_faces:\n",
    "        mesh = mesh.subdivide()\n",
    "    return mesh\n",
    "\n",
    "refined_shapes = []\n",
    "for index, row in outliers.iterrows():\n",
    "    try:\n",
    "        mesh = trimesh.load(row['file_path'])\n",
    "        refined_mesh = refine_mesh(mesh)\n",
    "        refined_shapes.append(refined_mesh)\n",
    "        refined_mesh.export(row['file_path'].replace('.obj', '_refined.obj'))\n",
    "    except Exception as e:\n",
    "        print(f\"Error refining {row['file_path']}: {e}\")\n",
    "\n",
    "# Step 2.4: Checking the Resampling\n",
    "refined_data = []\n",
    "for refined_mesh in refined_shapes:\n",
    "    num_vertices = len(refined_mesh.vertices)\n",
    "    num_faces = len(refined_mesh.faces)\n",
    "    face_types = \"mixed\"\n",
    "    if np.all(refined_mesh.faces.shape[1] == 3):\n",
    "        face_types = \"triangles\"\n",
    "    elif np.all(refined_mesh.faces.shape[1] == 4):\n",
    "        face_types = \"quads\"\n",
    "    bounding_box = refined_mesh.bounding_box.extents\n",
    "    refined_data.append({\n",
    "        'num_vertices': num_vertices,\n",
    "        'num_faces': num_faces,\n",
    "        'face_types': face_types,\n",
    "        'bounding_box': bounding_box\n",
    "    })\n",
    "\n",
    "refined_df = pd.DataFrame(refined_data)\n",
    "refined_df.to_csv('refined_shape_statistics.csv', index=False)\n",
    "\n",
    "# Step 2.5: Normalizing Shapes\n",
    "def normalize_shape(mesh):\n",
    "    # Translate shape to barycenter at origin\n",
    "    centroid = mesh.centroid\n",
    "    mesh.apply_translation(-centroid)\n",
    "    # Scale to fit in a unit-sized cube\n",
    "    scale_factor = 1.0 / np.max(mesh.bounding_box.extents)\n",
    "    \n",
    "    mesh.apply_scale(scale_factor)\n",
    "    return mesh\n",
    "\n",
    "# Create a new folder for normalized meshes\n",
    "normalized_folder = './NormalizedShapes'\n",
    "os.makedirs(normalized_folder, exist_ok=True)\n",
    "\n",
    "normalized_shapes = []\n",
    "for path in obj_file_paths:\n",
    "    try:\n",
    "        mesh = trimesh.load(path)\n",
    "        normalized_mesh = normalize_shape(mesh)\n",
    "        normalized_shapes.append(normalized_mesh)\n",
    "\n",
    "        # Define the export path in the new folder, maintaining original folder structure\n",
    "        relative_path = os.path.relpath(path, root_folder)\n",
    "        export_path = os.path.join(normalized_folder, relative_path)\n",
    "        export_dir = os.path.dirname(export_path)\n",
    "        \n",
    "        # Create the directory if it doesn't exist\n",
    "        os.makedirs(export_dir, exist_ok=True)\n",
    "        \n",
    "        # Export the normalized mesh to the new folder\n",
    "        normalized_mesh.export(export_path.replace('.obj', '_normalized.obj'))\n",
    "    except Exception as e:\n",
    "        print(f\"Error normalizing {path}: {e}\")\n",
    "\n",
    "# Save normalization statistics to JSON\n",
    "normalized_data = []\n",
    "for normalized_mesh in normalized_shapes:\n",
    "    num_vertices = len(normalized_mesh.vertices)\n",
    "    num_faces = len(normalized_mesh.faces)\n",
    "    bounding_box = normalized_mesh.bounding_box.extents\n",
    "    normalized_data.append({\n",
    "        'num_vertices': num_vertices,\n",
    "        'num_faces': num_faces,\n",
    "        'bounding_box': bounding_box\n",
    "    })\n",
    "\n",
    "# with open('normalized_shape_statistics.json', 'w') as json_file:\n",
    "#     json.dump(normalized_data, json_file, indent=4)\n",
    "normalized_df = pd.DataFrame(normalized_data)\n",
    "normalized_df.to_csv('normalized_shape_statistics.csv', index=False)"
   ]
  },
  {
   "cell_type": "markdown",
   "id": "7949b69b-9916-4112-a147-9d2857b03080",
   "metadata": {
    "editable": true,
    "jp-MarkdownHeadingCollapsed": true,
    "slideshow": {
     "slide_type": ""
    },
    "tags": []
   },
   "source": [
    "# Step 3"
   ]
  },
  {
   "cell_type": "code",
   "execution_count": 7,
   "id": "e3607085-0ebf-4768-84a1-ceb292ec585a",
   "metadata": {},
   "outputs": [],
   "source": [
    "# Load the normalized shape data from the JSON file\n",
    "with open('normalized_shape_data.json', 'r') as f:\n",
    "    normalized_shape_data = json.load(f)\n",
    "\n",
    "# Filter shapes that belong to the \"AircraftBuoyant\" genre\n",
    "aircraft_shapes = [data for data in normalized_shape_data if data['genre'] == 'AircraftBuoyant']"
   ]
  },
  {
   "cell_type": "markdown",
   "id": "b2172d8e-f184-48a7-8b8a-08de2fa4656b",
   "metadata": {
    "editable": true,
    "jp-MarkdownHeadingCollapsed": true,
    "slideshow": {
     "slide_type": ""
    },
    "tags": []
   },
   "source": [
    "## Step 3.1: Full Normalization"
   ]
  },
  {
   "cell_type": "code",
   "execution_count": 9,
   "id": "8257735e-44ae-4abf-96e1-a7c01c799f52",
   "metadata": {
    "editable": true,
    "slideshow": {
     "slide_type": ""
    },
    "tags": []
   },
   "outputs": [],
   "source": [
    "def normalize_shape(mesh):\n",
    "    # Centering: Translate the mesh so that its centroid is at the origin\n",
    "    mesh.vertices -= mesh.center_mass\n",
    "\n",
    "    # Scaling: Normalize the volume of the mesh to 1\n",
    "    scale = np.cbrt(1.0 / mesh.volume)\n",
    "    mesh.vertices *= scale\n",
    "\n",
    "    # Alignment using PCA: Align the principal axes of the mesh with the coordinate axes\n",
    "    pca = PCA(n_components=3)\n",
    "    pca.fit(mesh.vertices)\n",
    "    aligned_vertices = pca.transform(mesh.vertices)\n",
    "    mesh.vertices = aligned_vertices\n",
    "\n",
    "    # Flipping using Moment Test: Ensure the principal axes are consistently oriented\n",
    "    for axis in range(3):\n",
    "        if np.sum(mesh.vertices[:, axis]) < 0:\n",
    "            mesh.vertices[:, axis] *= -1\n",
    "\n",
    "    return mesh"
   ]
  },
  {
   "cell_type": "markdown",
   "id": "28dd2fb2-9070-44c3-8c4d-e7b1b21a2396",
   "metadata": {
    "editable": true,
    "slideshow": {
     "slide_type": ""
    },
    "tags": []
   },
   "source": [
    "## Step 3.2: Feature Extraction\n"
   ]
  },
  {
   "cell_type": "code",
   "execution_count": 11,
   "id": "a91a5e81-9e07-4c08-88b4-56e7c1866959",
   "metadata": {
    "editable": true,
    "slideshow": {
     "slide_type": ""
    },
    "tags": []
   },
   "outputs": [],
   "source": [
    "def extract_features(mesh):\n",
    "    features = {}\n",
    "\n",
    "    # Elementary Descriptors\n",
    "    features['Surface Area'] = mesh.area\n",
    "    features['Compactness'] = (36 * np.pi * (mesh.volume ** 2)) / (mesh.area ** 3)\n",
    "    obb = mesh.bounding_box_oriented\n",
    "    features['3D Rectangularity'] = mesh.volume / obb.volume\n",
    "    features['Diameter'] = np.max(mesh.bounding_box.extents)\n",
    "    convex_hull = mesh.convex_hull\n",
    "    features['Convexity'] = mesh.volume / convex_hull.volume\n",
    "    covariance_matrix = np.cov(mesh.vertices, rowvar=False)\n",
    "    eigenvalues, _ = np.linalg.eigh(covariance_matrix)\n",
    "    features['Eccentricity'] = max(eigenvalues) / min(eigenvalues)\n",
    "\n",
    "    # Property Descriptors (using normalized histograms)\n",
    "    num_samples = 1000\n",
    "    bins = 10\n",
    "\n",
    "    random_points = mesh.vertices[np.random.choice(mesh.vertices.shape[0], num_samples, replace=True)]\n",
    "\n",
    "    # A3: Angle between 3 random vertices\n",
    "    angles = []\n",
    "    for i in range(num_samples):\n",
    "        v1, v2, v3 = random_points[np.random.choice(num_samples, 3, replace=False)]\n",
    "        vec1 = v2 - v1\n",
    "        vec2 = v3 - v1\n",
    "        norm_vec1 = np.linalg.norm(vec1)\n",
    "        norm_vec2 = np.linalg.norm(vec2)\n",
    "        if norm_vec1 > 1e-6 and norm_vec2 > 1e-6:\n",
    "            cos_theta = np.dot(vec1, vec2) / (norm_vec1 * norm_vec2)\n",
    "            if -1.0 <= cos_theta <= 1.0:\n",
    "                angles.append(np.arccos(cos_theta))\n",
    "    if len(angles) > 0:\n",
    "        features['A3'] = np.histogram(angles, bins=bins, range=(0, np.pi), density=True)[0]\n",
    "    else:\n",
    "        features['A3'] = np.zeros(bins)\n",
    "\n",
    "    # D1: Distance between barycenter and random vertex\n",
    "    barycenter = mesh.center_mass\n",
    "    distances = np.linalg.norm(random_points - barycenter, axis=1)\n",
    "    if len(distances) > 0:\n",
    "        features['D1'] = np.histogram(distances, bins=bins, density=True)[0]\n",
    "    else:\n",
    "        features['D1'] = np.zeros(bins)\n",
    "\n",
    "    # D2: Distance between 2 random vertices\n",
    "    d2_distances = []\n",
    "    for i in range(num_samples // 2):\n",
    "        v1, v2 = random_points[np.random.choice(num_samples, 2, replace=False)]\n",
    "        d2_distances.append(np.linalg.norm(v1 - v2))\n",
    "    if len(d2_distances) > 0:\n",
    "        features['D2'] = np.histogram(d2_distances, bins=bins, density=True)[0]\n",
    "    else:\n",
    "        features['D2'] = np.zeros(bins)\n",
    "\n",
    "    # D3: Square root of area of triangle given by 3 random vertices\n",
    "    areas = []\n",
    "    for i in range(num_samples // 3):\n",
    "        v1, v2, v3 = random_points[np.random.choice(num_samples, 3, replace=False)]\n",
    "        if not np.allclose(np.cross(v2 - v1, v3 - v1), 0):\n",
    "            area = np.linalg.norm(np.cross(v2 - v1, v3 - v1)) / 2\n",
    "            areas.append(np.sqrt(area))\n",
    "    if len(areas) > 0:\n",
    "        features['D3'] = np.histogram(areas, bins=bins, density=True)[0]\n",
    "    else:\n",
    "        features['D3'] = np.zeros(bins)\n",
    "\n",
    "    # D4: Cube root of volume of tetrahedron formed by 4 random vertices\n",
    "    volumes = []\n",
    "    for i in range(num_samples // 4):\n",
    "        retries = 0\n",
    "        while retries < 5:\n",
    "            v1, v2, v3, v4 = random_points[np.random.choice(num_samples, 4, replace=False)]\n",
    "            volume = np.abs(np.dot(v4 - v1, np.cross(v2 - v1, v3 - v1))) / 6\n",
    "            if volume > 0:\n",
    "                volumes.append(np.cbrt(volume))\n",
    "                break\n",
    "            retries += 1\n",
    "    if len(volumes) > 0:\n",
    "        features['D4'] = np.histogram(volumes, bins=bins, density=True)[0]\n",
    "    else:\n",
    "        features['D4'] = np.zeros(bins)\n",
    "\n",
    "    return features"
   ]
  },
  {
   "cell_type": "code",
   "execution_count": 19,
   "id": "9f7ee295-1907-417a-be25-c2b9d7cf6fed",
   "metadata": {},
   "outputs": [
    {
     "ename": "NameError",
     "evalue": "name 'trimesh' is not defined",
     "output_type": "error",
     "traceback": [
      "\u001b[1;31m---------------------------------------------------------------------------\u001b[0m",
      "\u001b[1;31mNameError\u001b[0m                                 Traceback (most recent call last)",
      "Cell \u001b[1;32mIn[19], line 4\u001b[0m\n\u001b[0;32m      2\u001b[0m all_features \u001b[38;5;241m=\u001b[39m []\n\u001b[0;32m      3\u001b[0m \u001b[38;5;28;01mfor\u001b[39;00m data \u001b[38;5;129;01min\u001b[39;00m aircraft_shapes:\n\u001b[1;32m----> 4\u001b[0m     shape \u001b[38;5;241m=\u001b[39m trimesh\u001b[38;5;241m.\u001b[39mload(data[\u001b[38;5;124m'\u001b[39m\u001b[38;5;124mfile_path\u001b[39m\u001b[38;5;124m'\u001b[39m])\n\u001b[0;32m      5\u001b[0m     normalized_shape \u001b[38;5;241m=\u001b[39m normalize_shape(shape)\n\u001b[0;32m      6\u001b[0m     features \u001b[38;5;241m=\u001b[39m extract_features(normalized_shape)\n",
      "\u001b[1;31mNameError\u001b[0m: name 'trimesh' is not defined"
     ]
    }
   ],
   "source": [
    "# Example Usage\n",
    "all_features = []\n",
    "for data in aircraft_shapes:\n",
    "    shape = trimesh.load(data['file_path'])\n",
    "    normalized_shape = normalize_shape(shape)\n",
    "    features = extract_features(normalized_shape)\n",
    "    features['Shape File'] = data['file_path']\n",
    "    all_features.append(features)\n",
    "\n",
    "# Create a DataFrame for better tabular output\n",
    "features_df = pd.DataFrame(all_features)\n",
    "print(features_df)\n",
    "\n",
    "# Plotting the A3, D1, D2, D3, D4 histograms for all AircraftBuoyant shapes\n",
    "property_names = ['A3', 'D1', 'D2', 'D3', 'D4']\n",
    "for prop in property_names:\n",
    "    plt.figure()\n",
    "    for index, row in features_df.iterrows():\n",
    "        plt.plot(np.linspace(0, 1, len(row[prop])), row[prop], alpha=0.7)\n",
    "    plt.xlabel('Value')\n",
    "    plt.ylabel('Frequency')\n",
    "    plt.title(f'AircraftBuoyant - {prop}')\n",
    "    plt.show()"
   ]
  },
  {
   "cell_type": "code",
   "execution_count": null,
   "id": "1b0ba0db-88b0-4ada-b475-28e20afb9ffc",
   "metadata": {},
   "outputs": [],
   "source": []
  },
  {
   "cell_type": "code",
   "execution_count": null,
   "id": "2dd25cac-549d-4fcf-b4bf-123c441f4941",
   "metadata": {},
   "outputs": [],
   "source": []
  }
 ],
 "metadata": {
  "kernelspec": {
   "display_name": "Python 3 (ipykernel)",
   "language": "python",
   "name": "python3"
  },
  "language_info": {
   "codemirror_mode": {
    "name": "ipython",
    "version": 3
   },
   "file_extension": ".py",
   "mimetype": "text/x-python",
   "name": "python",
   "nbconvert_exporter": "python",
   "pygments_lexer": "ipython3",
   "version": "3.8.20"
  }
 },
 "nbformat": 4,
 "nbformat_minor": 5
}
